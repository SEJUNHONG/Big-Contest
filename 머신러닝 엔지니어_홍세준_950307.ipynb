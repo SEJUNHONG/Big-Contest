{
 "cells": [
  {
   "cell_type": "markdown",
   "metadata": {},
   "source": [
    "# <문제>\n",
    "\n",
    "2021년 2월 Nexon에서는 모바일 게임을 기획하고자 모바일 게임 TF를 발족하였으며 \n",
    "\n",
    "당신은 해당 팀의 분석가로 합류하게 되었습니다. \n",
    "\n",
    "당신은 프로젝트 기획단계에 필요한 시장 분석 요청을 받았으며 \n",
    "\n",
    "아래 데이터를 이용하여 현재 시장의 경쟁 상황을 보고 오픈 시점을 결정하기 위한 기반 자료를 작성해야 합니다.\n",
    "\n",
    "이에 한국의 모바일 게임 시장 상황을 분석하고 \n",
    "\n",
    "어떤 장르의 게임을 어느 시점에 론칭하는 것이 타당한지 설명하는 자료를 작성해주시기 바랍니다."
   ]
  },
  {
   "cell_type": "code",
   "execution_count": 1,
   "metadata": {},
   "outputs": [],
   "source": [
    "import pandas as pd\n",
    "import numpy as np\n",
    "import matplotlib.pyplot as plt\n",
    "import seaborn as sns"
   ]
  },
  {
   "cell_type": "code",
   "execution_count": 2,
   "metadata": {
    "scrolled": false
   },
   "outputs": [
    {
     "data": {
      "text/html": [
       "<div>\n",
       "<style scoped>\n",
       "    .dataframe tbody tr th:only-of-type {\n",
       "        vertical-align: middle;\n",
       "    }\n",
       "\n",
       "    .dataframe tbody tr th {\n",
       "        vertical-align: top;\n",
       "    }\n",
       "\n",
       "    .dataframe thead th {\n",
       "        text-align: right;\n",
       "    }\n",
       "</style>\n",
       "<table border=\"1\" class=\"dataframe\">\n",
       "  <thead>\n",
       "    <tr style=\"text-align: right;\">\n",
       "      <th></th>\n",
       "      <th>Rank</th>\n",
       "      <th>Category</th>\n",
       "      <th>Store</th>\n",
       "      <th>Device</th>\n",
       "      <th>Type</th>\n",
       "      <th>Country</th>\n",
       "      <th>Period</th>\n",
       "      <th>App ID</th>\n",
       "      <th>App Name</th>\n",
       "      <th>Value</th>\n",
       "      <th>...</th>\n",
       "      <th>App Release Date</th>\n",
       "      <th>Publisher Name</th>\n",
       "      <th>Company Name</th>\n",
       "      <th>Avg. rating - All</th>\n",
       "      <th># of ratings - All</th>\n",
       "      <th># of 5 stars - All</th>\n",
       "      <th># of 4 stars - All</th>\n",
       "      <th># of 3 stars - All</th>\n",
       "      <th># of 2 stars - All</th>\n",
       "      <th># of 1 stars - All</th>\n",
       "    </tr>\n",
       "  </thead>\n",
       "  <tbody>\n",
       "    <tr>\n",
       "      <th>0</th>\n",
       "      <td>1</td>\n",
       "      <td>Games</td>\n",
       "      <td>Google Play</td>\n",
       "      <td>Google Play</td>\n",
       "      <td>Free</td>\n",
       "      <td>Australia</td>\n",
       "      <td>14-Dec</td>\n",
       "      <td>com.king.candycrushsodasaga</td>\n",
       "      <td>Candy Crush Soda Saga</td>\n",
       "      <td>142322</td>\n",
       "      <td>...</td>\n",
       "      <td>2014-06-10</td>\n",
       "      <td>King</td>\n",
       "      <td>King</td>\n",
       "      <td>4.3</td>\n",
       "      <td>1330386</td>\n",
       "      <td>814338</td>\n",
       "      <td>270163</td>\n",
       "      <td>115783</td>\n",
       "      <td>51896</td>\n",
       "      <td>78206</td>\n",
       "    </tr>\n",
       "    <tr>\n",
       "      <th>1</th>\n",
       "      <td>2</td>\n",
       "      <td>Games</td>\n",
       "      <td>Google Play</td>\n",
       "      <td>Google Play</td>\n",
       "      <td>Free</td>\n",
       "      <td>Australia</td>\n",
       "      <td>14-Dec</td>\n",
       "      <td>com.king.candycrushsaga</td>\n",
       "      <td>Candy Crush Saga</td>\n",
       "      <td>66453</td>\n",
       "      <td>...</td>\n",
       "      <td>2012-11-16</td>\n",
       "      <td>King</td>\n",
       "      <td>King</td>\n",
       "      <td>4.3</td>\n",
       "      <td>10255021</td>\n",
       "      <td>6729342</td>\n",
       "      <td>1820359</td>\n",
       "      <td>745026</td>\n",
       "      <td>324031</td>\n",
       "      <td>636263</td>\n",
       "    </tr>\n",
       "    <tr>\n",
       "      <th>2</th>\n",
       "      <td>3</td>\n",
       "      <td>Games</td>\n",
       "      <td>Google Play</td>\n",
       "      <td>Google Play</td>\n",
       "      <td>Free</td>\n",
       "      <td>Australia</td>\n",
       "      <td>14-Dec</td>\n",
       "      <td>air.au.com.metro.DumbWaysToDie2</td>\n",
       "      <td>Dumb Ways to Die 2: The Games</td>\n",
       "      <td>61576</td>\n",
       "      <td>...</td>\n",
       "      <td>2014-12-08</td>\n",
       "      <td>Metro Trains</td>\n",
       "      <td>Metro Trains</td>\n",
       "      <td>4.2</td>\n",
       "      <td>244649</td>\n",
       "      <td>156193</td>\n",
       "      <td>36249</td>\n",
       "      <td>20080</td>\n",
       "      <td>10502</td>\n",
       "      <td>21625</td>\n",
       "    </tr>\n",
       "    <tr>\n",
       "      <th>3</th>\n",
       "      <td>4</td>\n",
       "      <td>Games</td>\n",
       "      <td>Google Play</td>\n",
       "      <td>Google Play</td>\n",
       "      <td>Free</td>\n",
       "      <td>Australia</td>\n",
       "      <td>14-Dec</td>\n",
       "      <td>com.ketchapp.stickhero</td>\n",
       "      <td>Stick Hero</td>\n",
       "      <td>60031</td>\n",
       "      <td>...</td>\n",
       "      <td>2014-11-05</td>\n",
       "      <td>Ketchapp</td>\n",
       "      <td>Ketchapp Studio</td>\n",
       "      <td>4.0</td>\n",
       "      <td>310673</td>\n",
       "      <td>158330</td>\n",
       "      <td>66278</td>\n",
       "      <td>39428</td>\n",
       "      <td>18147</td>\n",
       "      <td>28490</td>\n",
       "    </tr>\n",
       "    <tr>\n",
       "      <th>4</th>\n",
       "      <td>5</td>\n",
       "      <td>Games</td>\n",
       "      <td>Google Play</td>\n",
       "      <td>Google Play</td>\n",
       "      <td>Free</td>\n",
       "      <td>Australia</td>\n",
       "      <td>14-Dec</td>\n",
       "      <td>com.kiloo.subwaysurf</td>\n",
       "      <td>Subway Surfers</td>\n",
       "      <td>59157</td>\n",
       "      <td>...</td>\n",
       "      <td>2012-09-20</td>\n",
       "      <td>Kiloo</td>\n",
       "      <td>Kiloo</td>\n",
       "      <td>4.4</td>\n",
       "      <td>11932177</td>\n",
       "      <td>8655626</td>\n",
       "      <td>1576101</td>\n",
       "      <td>705977</td>\n",
       "      <td>346631</td>\n",
       "      <td>647842</td>\n",
       "    </tr>\n",
       "  </tbody>\n",
       "</table>\n",
       "<p>5 rows × 27 columns</p>\n",
       "</div>"
      ],
      "text/plain": [
       "   Rank Category        Store       Device  Type    Country  Period  \\\n",
       "0     1    Games  Google Play  Google Play  Free  Australia  14-Dec   \n",
       "1     2    Games  Google Play  Google Play  Free  Australia  14-Dec   \n",
       "2     3    Games  Google Play  Google Play  Free  Australia  14-Dec   \n",
       "3     4    Games  Google Play  Google Play  Free  Australia  14-Dec   \n",
       "4     5    Games  Google Play  Google Play  Free  Australia  14-Dec   \n",
       "\n",
       "                            App ID                       App Name   Value  \\\n",
       "0      com.king.candycrushsodasaga          Candy Crush Soda Saga  142322   \n",
       "1          com.king.candycrushsaga               Candy Crush Saga   66453   \n",
       "2  air.au.com.metro.DumbWaysToDie2  Dumb Ways to Die 2: The Games   61576   \n",
       "3           com.ketchapp.stickhero                     Stick Hero   60031   \n",
       "4             com.kiloo.subwaysurf                 Subway Surfers   59157   \n",
       "\n",
       "   ... App Release Date  Publisher Name     Company Name Avg. rating - All  \\\n",
       "0  ...       2014-06-10            King             King               4.3   \n",
       "1  ...       2012-11-16            King             King               4.3   \n",
       "2  ...       2014-12-08    Metro Trains     Metro Trains               4.2   \n",
       "3  ...       2014-11-05        Ketchapp  Ketchapp Studio               4.0   \n",
       "4  ...       2012-09-20           Kiloo            Kiloo               4.4   \n",
       "\n",
       "   # of ratings - All  # of 5 stars - All  # of 4 stars - All  \\\n",
       "0             1330386              814338              270163   \n",
       "1            10255021             6729342             1820359   \n",
       "2              244649              156193               36249   \n",
       "3              310673              158330               66278   \n",
       "4            11932177             8655626             1576101   \n",
       "\n",
       "  # of 3 stars - All # of 2 stars - All # of 1 stars - All  \n",
       "0             115783              51896              78206  \n",
       "1             745026             324031             636263  \n",
       "2              20080              10502              21625  \n",
       "3              39428              18147              28490  \n",
       "4             705977             346631             647842  \n",
       "\n",
       "[5 rows x 27 columns]"
      ]
     },
     "execution_count": 2,
     "metadata": {},
     "output_type": "execute_result"
    }
   ],
   "source": [
    "data=pd.read_csv(\"mobileGameStat.csv\", parse_dates=['App Release Date'], engine='python')\n",
    "data.head()"
   ]
  },
  {
   "cell_type": "code",
   "execution_count": 3,
   "metadata": {},
   "outputs": [
    {
     "name": "stdout",
     "output_type": "stream",
     "text": [
      "<class 'pandas.core.frame.DataFrame'>\n",
      "RangeIndex: 85000 entries, 0 to 84999\n",
      "Data columns (total 27 columns):\n",
      "Rank                  85000 non-null int64\n",
      "Category              85000 non-null object\n",
      "Store                 85000 non-null object\n",
      "Device                85000 non-null object\n",
      "Type                  85000 non-null object\n",
      "Country               85000 non-null object\n",
      "Period                85000 non-null object\n",
      "App ID                85000 non-null object\n",
      "App Name              85000 non-null object\n",
      "Value                 85000 non-null int64\n",
      "Unit                  85000 non-null object\n",
      "App IAP               85000 non-null bool\n",
      "App Category          69434 non-null object\n",
      "App Device            85000 non-null object\n",
      "App Start Price       80695 non-null float64\n",
      "App End Price         85000 non-null float64\n",
      "App Avg. Price        85000 non-null float64\n",
      "App Release Date      85000 non-null datetime64[ns]\n",
      "Publisher Name        85000 non-null object\n",
      "Company Name          85000 non-null object\n",
      "Avg. rating - All     85000 non-null float64\n",
      "# of ratings - All    85000 non-null int64\n",
      "# of 5 stars - All    85000 non-null int64\n",
      "# of 4 stars - All    85000 non-null int64\n",
      "# of 3 stars - All    85000 non-null int64\n",
      "# of 2 stars - All    85000 non-null int64\n",
      "# of 1 stars - All    85000 non-null int64\n",
      "dtypes: bool(1), datetime64[ns](1), float64(4), int64(8), object(13)\n",
      "memory usage: 16.9+ MB\n"
     ]
    }
   ],
   "source": [
    "data.info()"
   ]
  },
  {
   "cell_type": "code",
   "execution_count": 4,
   "metadata": {},
   "outputs": [
    {
     "data": {
      "text/html": [
       "<div>\n",
       "<style scoped>\n",
       "    .dataframe tbody tr th:only-of-type {\n",
       "        vertical-align: middle;\n",
       "    }\n",
       "\n",
       "    .dataframe tbody tr th {\n",
       "        vertical-align: top;\n",
       "    }\n",
       "\n",
       "    .dataframe thead th {\n",
       "        text-align: right;\n",
       "    }\n",
       "</style>\n",
       "<table border=\"1\" class=\"dataframe\">\n",
       "  <thead>\n",
       "    <tr style=\"text-align: right;\">\n",
       "      <th></th>\n",
       "      <th>Rank</th>\n",
       "      <th>Value</th>\n",
       "      <th>App Start Price</th>\n",
       "      <th>App End Price</th>\n",
       "      <th>App Avg. Price</th>\n",
       "      <th>Avg. rating - All</th>\n",
       "      <th># of ratings - All</th>\n",
       "      <th># of 5 stars - All</th>\n",
       "      <th># of 4 stars - All</th>\n",
       "      <th># of 3 stars - All</th>\n",
       "      <th># of 2 stars - All</th>\n",
       "      <th># of 1 stars - All</th>\n",
       "    </tr>\n",
       "  </thead>\n",
       "  <tbody>\n",
       "    <tr>\n",
       "      <th>count</th>\n",
       "      <td>85000.00000</td>\n",
       "      <td>8.500000e+04</td>\n",
       "      <td>80695.000000</td>\n",
       "      <td>85000.000000</td>\n",
       "      <td>85000.000000</td>\n",
       "      <td>85000.000000</td>\n",
       "      <td>8.500000e+04</td>\n",
       "      <td>8.500000e+04</td>\n",
       "      <td>8.500000e+04</td>\n",
       "      <td>85000.000000</td>\n",
       "      <td>85000.000000</td>\n",
       "      <td>85000.000000</td>\n",
       "    </tr>\n",
       "    <tr>\n",
       "      <th>mean</th>\n",
       "      <td>50.50000</td>\n",
       "      <td>1.775887e+05</td>\n",
       "      <td>1.329470</td>\n",
       "      <td>1.302008</td>\n",
       "      <td>1.314851</td>\n",
       "      <td>4.220568</td>\n",
       "      <td>5.193177e+05</td>\n",
       "      <td>3.607211e+05</td>\n",
       "      <td>7.687289e+04</td>\n",
       "      <td>34028.600765</td>\n",
       "      <td>15619.448576</td>\n",
       "      <td>32075.683576</td>\n",
       "    </tr>\n",
       "    <tr>\n",
       "      <th>std</th>\n",
       "      <td>28.86624</td>\n",
       "      <td>1.093823e+06</td>\n",
       "      <td>4.754152</td>\n",
       "      <td>3.738470</td>\n",
       "      <td>3.217266</td>\n",
       "      <td>0.354955</td>\n",
       "      <td>1.370753e+06</td>\n",
       "      <td>9.772600e+05</td>\n",
       "      <td>2.009232e+05</td>\n",
       "      <td>85521.426361</td>\n",
       "      <td>39626.803813</td>\n",
       "      <td>77579.574649</td>\n",
       "    </tr>\n",
       "    <tr>\n",
       "      <th>min</th>\n",
       "      <td>1.00000</td>\n",
       "      <td>3.000000e+01</td>\n",
       "      <td>0.000000</td>\n",
       "      <td>0.000000</td>\n",
       "      <td>0.000000</td>\n",
       "      <td>0.000000</td>\n",
       "      <td>0.000000e+00</td>\n",
       "      <td>0.000000e+00</td>\n",
       "      <td>0.000000e+00</td>\n",
       "      <td>0.000000</td>\n",
       "      <td>0.000000</td>\n",
       "      <td>0.000000</td>\n",
       "    </tr>\n",
       "    <tr>\n",
       "      <th>25%</th>\n",
       "      <td>25.75000</td>\n",
       "      <td>6.480000e+02</td>\n",
       "      <td>0.000000</td>\n",
       "      <td>0.000000</td>\n",
       "      <td>0.000000</td>\n",
       "      <td>4.100000</td>\n",
       "      <td>8.834000e+03</td>\n",
       "      <td>5.257000e+03</td>\n",
       "      <td>1.325750e+03</td>\n",
       "      <td>596.000000</td>\n",
       "      <td>270.000000</td>\n",
       "      <td>617.000000</td>\n",
       "    </tr>\n",
       "    <tr>\n",
       "      <th>50%</th>\n",
       "      <td>50.50000</td>\n",
       "      <td>8.052000e+03</td>\n",
       "      <td>0.000000</td>\n",
       "      <td>0.000000</td>\n",
       "      <td>0.000000</td>\n",
       "      <td>4.300000</td>\n",
       "      <td>5.079500e+04</td>\n",
       "      <td>3.270400e+04</td>\n",
       "      <td>7.490000e+03</td>\n",
       "      <td>3571.000000</td>\n",
       "      <td>1672.000000</td>\n",
       "      <td>4207.000000</td>\n",
       "    </tr>\n",
       "    <tr>\n",
       "      <th>75%</th>\n",
       "      <td>75.25000</td>\n",
       "      <td>9.017525e+04</td>\n",
       "      <td>1.190000</td>\n",
       "      <td>1.190000</td>\n",
       "      <td>1.692500</td>\n",
       "      <td>4.400000</td>\n",
       "      <td>3.110120e+05</td>\n",
       "      <td>2.042900e+05</td>\n",
       "      <td>4.960200e+04</td>\n",
       "      <td>24245.000000</td>\n",
       "      <td>10430.000000</td>\n",
       "      <td>23407.000000</td>\n",
       "    </tr>\n",
       "    <tr>\n",
       "      <th>max</th>\n",
       "      <td>100.00000</td>\n",
       "      <td>5.109463e+07</td>\n",
       "      <td>449.000000</td>\n",
       "      <td>442.080000</td>\n",
       "      <td>232.290000</td>\n",
       "      <td>5.000000</td>\n",
       "      <td>1.283882e+07</td>\n",
       "      <td>9.298820e+06</td>\n",
       "      <td>1.912303e+06</td>\n",
       "      <td>784807.000000</td>\n",
       "      <td>378226.000000</td>\n",
       "      <td>706779.000000</td>\n",
       "    </tr>\n",
       "  </tbody>\n",
       "</table>\n",
       "</div>"
      ],
      "text/plain": [
       "              Rank         Value  App Start Price  App End Price  \\\n",
       "count  85000.00000  8.500000e+04     80695.000000   85000.000000   \n",
       "mean      50.50000  1.775887e+05         1.329470       1.302008   \n",
       "std       28.86624  1.093823e+06         4.754152       3.738470   \n",
       "min        1.00000  3.000000e+01         0.000000       0.000000   \n",
       "25%       25.75000  6.480000e+02         0.000000       0.000000   \n",
       "50%       50.50000  8.052000e+03         0.000000       0.000000   \n",
       "75%       75.25000  9.017525e+04         1.190000       1.190000   \n",
       "max      100.00000  5.109463e+07       449.000000     442.080000   \n",
       "\n",
       "       App Avg. Price  Avg. rating - All  # of ratings - All  \\\n",
       "count    85000.000000       85000.000000        8.500000e+04   \n",
       "mean         1.314851           4.220568        5.193177e+05   \n",
       "std          3.217266           0.354955        1.370753e+06   \n",
       "min          0.000000           0.000000        0.000000e+00   \n",
       "25%          0.000000           4.100000        8.834000e+03   \n",
       "50%          0.000000           4.300000        5.079500e+04   \n",
       "75%          1.692500           4.400000        3.110120e+05   \n",
       "max        232.290000           5.000000        1.283882e+07   \n",
       "\n",
       "       # of 5 stars - All  # of 4 stars - All  # of 3 stars - All  \\\n",
       "count        8.500000e+04        8.500000e+04        85000.000000   \n",
       "mean         3.607211e+05        7.687289e+04        34028.600765   \n",
       "std          9.772600e+05        2.009232e+05        85521.426361   \n",
       "min          0.000000e+00        0.000000e+00            0.000000   \n",
       "25%          5.257000e+03        1.325750e+03          596.000000   \n",
       "50%          3.270400e+04        7.490000e+03         3571.000000   \n",
       "75%          2.042900e+05        4.960200e+04        24245.000000   \n",
       "max          9.298820e+06        1.912303e+06       784807.000000   \n",
       "\n",
       "       # of 2 stars - All  # of 1 stars - All  \n",
       "count        85000.000000        85000.000000  \n",
       "mean         15619.448576        32075.683576  \n",
       "std          39626.803813        77579.574649  \n",
       "min              0.000000            0.000000  \n",
       "25%            270.000000          617.000000  \n",
       "50%           1672.000000         4207.000000  \n",
       "75%          10430.000000        23407.000000  \n",
       "max         378226.000000       706779.000000  "
      ]
     },
     "execution_count": 4,
     "metadata": {},
     "output_type": "execute_result"
    }
   ],
   "source": [
    "data.describe()"
   ]
  },
  {
   "cell_type": "code",
   "execution_count": 5,
   "metadata": {
    "scrolled": true
   },
   "outputs": [
    {
     "data": {
      "text/plain": [
       "Index(['Rank', 'Category', 'Store', 'Device', 'Type', 'Country', 'Period',\n",
       "       'App ID', 'App Name', 'Value', 'Unit', 'App IAP', 'App Category',\n",
       "       'App Device', 'App Start Price', 'App End Price', 'App Avg. Price',\n",
       "       'App Release Date', 'Publisher Name', 'Company Name',\n",
       "       'Avg. rating - All', '# of ratings - All', '# of 5 stars - All',\n",
       "       '# of 4 stars - All', '# of 3 stars - All', '# of 2 stars - All',\n",
       "       '# of 1 stars - All'],\n",
       "      dtype='object')"
      ]
     },
     "execution_count": 5,
     "metadata": {},
     "output_type": "execute_result"
    }
   ],
   "source": [
    "col=data.columns\n",
    "col"
   ]
  },
  {
   "cell_type": "code",
   "execution_count": 6,
   "metadata": {},
   "outputs": [
    {
     "data": {
      "text/plain": [
       "63     850\n",
       "82     850\n",
       "77     850\n",
       "14     850\n",
       "78     850\n",
       "      ... \n",
       "35     850\n",
       "99     850\n",
       "36     850\n",
       "100    850\n",
       "64     850\n",
       "Name: Rank, Length: 100, dtype: int64"
      ]
     },
     "execution_count": 6,
     "metadata": {},
     "output_type": "execute_result"
    }
   ],
   "source": [
    "data.Rank.value_counts()"
   ]
  },
  {
   "cell_type": "markdown",
   "metadata": {},
   "source": [
    "## 컬럼 값들 중 불변한 속성(랭킹에 영향을 덜받는)을 지닌 컬럼 제거\n",
    "\n",
    "'Category' : 상위카테고리 - Games\n",
    "\n",
    "'Store' : 앱스토어 명칭 - Google Play\n",
    "\n",
    "'Device' : 디바이스명 - Google Play\n",
    "\n",
    "*'Country' : 국가명 - South Korea\n",
    "\n",
    "'App ID' : 게임 애플리케이션 아이디 - Nexon\n",
    "\n",
    "'App Name' : 게임명 - \n",
    "\n",
    "'App Device' : 디바이스 버전\n",
    "\n",
    "'Publisher Name' : 퍼블리셔 이름 - Nexon\n",
    "\n",
    "'Company Name' : 개발자 이름 - Nexon"
   ]
  },
  {
   "cell_type": "code",
   "execution_count": 7,
   "metadata": {},
   "outputs": [
    {
     "data": {
      "text/plain": [
       "Games    85000\n",
       "Name: Category, dtype: int64"
      ]
     },
     "execution_count": 7,
     "metadata": {},
     "output_type": "execute_result"
    }
   ],
   "source": [
    "data.Category.value_counts()"
   ]
  },
  {
   "cell_type": "code",
   "execution_count": 8,
   "metadata": {
    "scrolled": true
   },
   "outputs": [
    {
     "data": {
      "text/plain": [
       "Google Play    85000\n",
       "Name: Store, dtype: int64"
      ]
     },
     "execution_count": 8,
     "metadata": {},
     "output_type": "execute_result"
    }
   ],
   "source": [
    "data.Store.value_counts()"
   ]
  },
  {
   "cell_type": "code",
   "execution_count": 9,
   "metadata": {
    "scrolled": false
   },
   "outputs": [
    {
     "data": {
      "text/plain": [
       "Google Play    85000\n",
       "Name: Device, dtype: int64"
      ]
     },
     "execution_count": 9,
     "metadata": {},
     "output_type": "execute_result"
    }
   ],
   "source": [
    "data.Device.value_counts()"
   ]
  },
  {
   "cell_type": "code",
   "execution_count": 10,
   "metadata": {},
   "outputs": [
    {
     "data": {
      "text/plain": [
       "South Korea             7500\n",
       "Thailand                7200\n",
       "United States           7200\n",
       "Japan                   7200\n",
       "ALL                     1500\n",
       "Austria                 1200\n",
       "Spain                   1200\n",
       "Belgium                 1200\n",
       "Indonesia               1200\n",
       "South Africa            1200\n",
       "Switzerland             1200\n",
       "Vietnam                 1200\n",
       "Australia               1200\n",
       "Taiwan                  1200\n",
       "Egypt                   1200\n",
       "Ukraine                 1200\n",
       "Hungary                 1200\n",
       "Germany                 1200\n",
       "Brazil                  1200\n",
       "Romania                 1200\n",
       "Turkey                  1200\n",
       "Canada                  1200\n",
       "Malaysia                1200\n",
       "Denmark                 1200\n",
       "Philippines             1200\n",
       "Poland                  1200\n",
       "Chile                   1200\n",
       "France                  1200\n",
       "Israel                  1200\n",
       "New Zealand             1200\n",
       "Greece                  1200\n",
       "Kuwait                  1200\n",
       "Portugal                1200\n",
       "Mexico                  1200\n",
       "India                   1200\n",
       "Hong Kong               1200\n",
       "Italy                   1200\n",
       "Finland                 1200\n",
       "United Arab Emirates    1200\n",
       "Netherlands             1200\n",
       "Sweden                  1200\n",
       "Russia                  1200\n",
       "Bulgaria                1200\n",
       "Singapore               1200\n",
       "United Kingdom          1200\n",
       "Ireland                 1200\n",
       "Czech Republic          1200\n",
       "Argentina               1200\n",
       "Slovakia                1200\n",
       "Norway                  1200\n",
       "China                    400\n",
       "Name: Country, dtype: int64"
      ]
     },
     "execution_count": 10,
     "metadata": {},
     "output_type": "execute_result"
    }
   ],
   "source": [
    "data.Country.value_counts()"
   ]
  },
  {
   "cell_type": "code",
   "execution_count": 11,
   "metadata": {
    "scrolled": false
   },
   "outputs": [
    {
     "data": {
      "text/plain": [
       "com.king.candycrushsaga                  522\n",
       "com.mojang.minecraftpe                   490\n",
       "com.supercell.clashofclans               486\n",
       "com.kiloo.subwaysurf                     453\n",
       "com.supercell.hayday                     449\n",
       "                                        ... \n",
       "com.voltage.joshige.suite                  1\n",
       "air.com.blueinter.google.KingSamM          1\n",
       "co.kr.gameus.canimalwars                   1\n",
       "com.cassieapp.ideas.minecraftairplane      1\n",
       "com.ylcsoft.brokenheartvs                  1\n",
       "Name: App ID, Length: 7960, dtype: int64"
      ]
     },
     "execution_count": 11,
     "metadata": {},
     "output_type": "execute_result"
    }
   ],
   "source": [
    "data['App ID'].value_counts()"
   ]
  },
  {
   "cell_type": "code",
   "execution_count": 12,
   "metadata": {},
   "outputs": [
    {
     "data": {
      "text/plain": [
       "Candy Crush Saga              522\n",
       "Minecraft - Pocket Edition    490\n",
       "Clash of Clans                486\n",
       "Subway Surfers                453\n",
       "Hay Day                       449\n",
       "                             ... \n",
       "CRプレミアム海物語                      1\n",
       "TowerMadness 2: 3D TD           1\n",
       "Death Drive                     1\n",
       "Dの海賊                            1\n",
       "Zombie Hunter                   1\n",
       "Name: App Name, Length: 8010, dtype: int64"
      ]
     },
     "execution_count": 12,
     "metadata": {},
     "output_type": "execute_result"
    }
   ],
   "source": [
    "data['App Name'].value_counts()"
   ]
  },
  {
   "cell_type": "code",
   "execution_count": 13,
   "metadata": {},
   "outputs": [
    {
     "data": {
      "text/plain": [
       "2.3 and up            28679\n",
       "2.3.3 and up          15413\n",
       "2.2 and up            14840\n",
       "4.0 and up             6906\n",
       "Varies with device     5901\n",
       "2.1 and up             3408\n",
       "4.0.3 and up           3076\n",
       "3.0 and up             2158\n",
       "1.6 and up             1644\n",
       "2.0 and up              804\n",
       "2.0.1 and up            653\n",
       "4.1 and up              462\n",
       "1.5 and up              402\n",
       "3.2 and up              265\n",
       "4.2 and up              114\n",
       "1.1 and up               75\n",
       "2.3 - 4.4                59\n",
       "3.1 and up               48\n",
       "2.3 - 5.0                25\n",
       "2.2 - 4.4                23\n",
       "2.3 - 4.3                 9\n",
       "2.2 - 4.2                 8\n",
       "4.3 and up                6\n",
       "1.0 and up                5\n",
       "4.4 and up                3\n",
       "2.3.3 - 4.4W              3\n",
       "2.3.3 - 4.4               2\n",
       "2.3.3 - 5.0               2\n",
       "1.6 - 4.4                 2\n",
       "2.3 - 4.2                 2\n",
       "4.0 - 4.3                 1\n",
       "1.6 - 5.0                 1\n",
       "2.2 - 5.0                 1\n",
       "Name: App Device, dtype: int64"
      ]
     },
     "execution_count": 13,
     "metadata": {},
     "output_type": "execute_result"
    }
   ],
   "source": [
    "data['App Device'].value_counts()"
   ]
  },
  {
   "cell_type": "code",
   "execution_count": 14,
   "metadata": {},
   "outputs": [
    {
     "data": {
      "text/plain": [
       "Gameloft             4075\n",
       "King                 2258\n",
       "EA Mobile            1410\n",
       "ELECTRONIC ARTS      1367\n",
       "Rovio Mobile Ltd.    1290\n",
       "                     ... \n",
       "Qikuyx Inc.             1\n",
       "Primary Games Ltd       1\n",
       "ForteGames              1\n",
       "POLY E&M Inc.           1\n",
       "TreeNuts                1\n",
       "Name: Publisher Name, Length: 3930, dtype: int64"
      ]
     },
     "execution_count": 14,
     "metadata": {},
     "output_type": "execute_result"
    }
   ],
   "source": [
    "data['Publisher Name'].value_counts()"
   ]
  },
  {
   "cell_type": "code",
   "execution_count": 15,
   "metadata": {
    "scrolled": true
   },
   "outputs": [
    {
     "data": {
      "text/plain": [
       "Gameloft           4075\n",
       "King               2524\n",
       "Electronic Arts    2339\n",
       "Firemint           1367\n",
       "Rovio              1345\n",
       "                   ... \n",
       "enish                 1\n",
       "momoStorm             1\n",
       "Pilot Fish            1\n",
       "RacoonSoft            1\n",
       "MAIET                 1\n",
       "Name: Company Name, Length: 3880, dtype: int64"
      ]
     },
     "execution_count": 15,
     "metadata": {},
     "output_type": "execute_result"
    }
   ],
   "source": [
    "data['Company Name'].value_counts()"
   ]
  },
  {
   "cell_type": "code",
   "execution_count": 16,
   "metadata": {},
   "outputs": [
    {
     "data": {
      "text/html": [
       "<div>\n",
       "<style scoped>\n",
       "    .dataframe tbody tr th:only-of-type {\n",
       "        vertical-align: middle;\n",
       "    }\n",
       "\n",
       "    .dataframe tbody tr th {\n",
       "        vertical-align: top;\n",
       "    }\n",
       "\n",
       "    .dataframe thead th {\n",
       "        text-align: right;\n",
       "    }\n",
       "</style>\n",
       "<table border=\"1\" class=\"dataframe\">\n",
       "  <thead>\n",
       "    <tr style=\"text-align: right;\">\n",
       "      <th></th>\n",
       "      <th>Rank</th>\n",
       "      <th>Type</th>\n",
       "      <th>Period</th>\n",
       "      <th>Value</th>\n",
       "      <th>Unit</th>\n",
       "      <th>App IAP</th>\n",
       "      <th>App Category</th>\n",
       "      <th>App Start Price</th>\n",
       "      <th>App End Price</th>\n",
       "      <th>App Avg. Price</th>\n",
       "      <th>App Release Date</th>\n",
       "      <th>Avg. rating - All</th>\n",
       "      <th># of ratings - All</th>\n",
       "      <th># of 5 stars - All</th>\n",
       "      <th># of 4 stars - All</th>\n",
       "      <th># of 3 stars - All</th>\n",
       "      <th># of 2 stars - All</th>\n",
       "      <th># of 1 stars - All</th>\n",
       "    </tr>\n",
       "  </thead>\n",
       "  <tbody>\n",
       "    <tr>\n",
       "      <th>0</th>\n",
       "      <td>1</td>\n",
       "      <td>Free</td>\n",
       "      <td>14-Dec</td>\n",
       "      <td>142322</td>\n",
       "      <td>Downloads</td>\n",
       "      <td>True</td>\n",
       "      <td>Games Casual</td>\n",
       "      <td>0.0</td>\n",
       "      <td>0.0</td>\n",
       "      <td>0.0</td>\n",
       "      <td>2014-06-10</td>\n",
       "      <td>4.3</td>\n",
       "      <td>1330386</td>\n",
       "      <td>814338</td>\n",
       "      <td>270163</td>\n",
       "      <td>115783</td>\n",
       "      <td>51896</td>\n",
       "      <td>78206</td>\n",
       "    </tr>\n",
       "    <tr>\n",
       "      <th>1</th>\n",
       "      <td>2</td>\n",
       "      <td>Free</td>\n",
       "      <td>14-Dec</td>\n",
       "      <td>66453</td>\n",
       "      <td>Downloads</td>\n",
       "      <td>True</td>\n",
       "      <td>Games Casual</td>\n",
       "      <td>0.0</td>\n",
       "      <td>0.0</td>\n",
       "      <td>0.0</td>\n",
       "      <td>2012-11-16</td>\n",
       "      <td>4.3</td>\n",
       "      <td>10255021</td>\n",
       "      <td>6729342</td>\n",
       "      <td>1820359</td>\n",
       "      <td>745026</td>\n",
       "      <td>324031</td>\n",
       "      <td>636263</td>\n",
       "    </tr>\n",
       "    <tr>\n",
       "      <th>2</th>\n",
       "      <td>3</td>\n",
       "      <td>Free</td>\n",
       "      <td>14-Dec</td>\n",
       "      <td>61576</td>\n",
       "      <td>Downloads</td>\n",
       "      <td>True</td>\n",
       "      <td>Games Casual</td>\n",
       "      <td>NaN</td>\n",
       "      <td>0.0</td>\n",
       "      <td>0.0</td>\n",
       "      <td>2014-12-08</td>\n",
       "      <td>4.2</td>\n",
       "      <td>244649</td>\n",
       "      <td>156193</td>\n",
       "      <td>36249</td>\n",
       "      <td>20080</td>\n",
       "      <td>10502</td>\n",
       "      <td>21625</td>\n",
       "    </tr>\n",
       "    <tr>\n",
       "      <th>3</th>\n",
       "      <td>4</td>\n",
       "      <td>Free</td>\n",
       "      <td>14-Dec</td>\n",
       "      <td>60031</td>\n",
       "      <td>Downloads</td>\n",
       "      <td>True</td>\n",
       "      <td>Games Arcade</td>\n",
       "      <td>0.0</td>\n",
       "      <td>0.0</td>\n",
       "      <td>0.0</td>\n",
       "      <td>2014-11-05</td>\n",
       "      <td>4.0</td>\n",
       "      <td>310673</td>\n",
       "      <td>158330</td>\n",
       "      <td>66278</td>\n",
       "      <td>39428</td>\n",
       "      <td>18147</td>\n",
       "      <td>28490</td>\n",
       "    </tr>\n",
       "    <tr>\n",
       "      <th>4</th>\n",
       "      <td>5</td>\n",
       "      <td>Free</td>\n",
       "      <td>14-Dec</td>\n",
       "      <td>59157</td>\n",
       "      <td>Downloads</td>\n",
       "      <td>True</td>\n",
       "      <td>Games Arcade</td>\n",
       "      <td>0.0</td>\n",
       "      <td>0.0</td>\n",
       "      <td>0.0</td>\n",
       "      <td>2012-09-20</td>\n",
       "      <td>4.4</td>\n",
       "      <td>11932177</td>\n",
       "      <td>8655626</td>\n",
       "      <td>1576101</td>\n",
       "      <td>705977</td>\n",
       "      <td>346631</td>\n",
       "      <td>647842</td>\n",
       "    </tr>\n",
       "  </tbody>\n",
       "</table>\n",
       "</div>"
      ],
      "text/plain": [
       "   Rank  Type  Period   Value       Unit  App IAP  App Category  \\\n",
       "0     1  Free  14-Dec  142322  Downloads     True  Games Casual   \n",
       "1     2  Free  14-Dec   66453  Downloads     True  Games Casual   \n",
       "2     3  Free  14-Dec   61576  Downloads     True  Games Casual   \n",
       "3     4  Free  14-Dec   60031  Downloads     True  Games Arcade   \n",
       "4     5  Free  14-Dec   59157  Downloads     True  Games Arcade   \n",
       "\n",
       "   App Start Price  App End Price  App Avg. Price App Release Date  \\\n",
       "0              0.0            0.0             0.0       2014-06-10   \n",
       "1              0.0            0.0             0.0       2012-11-16   \n",
       "2              NaN            0.0             0.0       2014-12-08   \n",
       "3              0.0            0.0             0.0       2014-11-05   \n",
       "4              0.0            0.0             0.0       2012-09-20   \n",
       "\n",
       "   Avg. rating - All  # of ratings - All  # of 5 stars - All  \\\n",
       "0                4.3             1330386              814338   \n",
       "1                4.3            10255021             6729342   \n",
       "2                4.2              244649              156193   \n",
       "3                4.0              310673              158330   \n",
       "4                4.4            11932177             8655626   \n",
       "\n",
       "   # of 4 stars - All  # of 3 stars - All  # of 2 stars - All  \\\n",
       "0              270163              115783               51896   \n",
       "1             1820359              745026              324031   \n",
       "2               36249               20080               10502   \n",
       "3               66278               39428               18147   \n",
       "4             1576101              705977              346631   \n",
       "\n",
       "   # of 1 stars - All  \n",
       "0               78206  \n",
       "1              636263  \n",
       "2               21625  \n",
       "3               28490  \n",
       "4              647842  "
      ]
     },
     "execution_count": 16,
     "metadata": {},
     "output_type": "execute_result"
    }
   ],
   "source": [
    "data=data.drop(['Category', 'Store', 'Device', 'Country', 'App ID', 'App Name', 'App Device', 'Publisher Name', 'Company Name'], axis='columns')\n",
    "data.head()"
   ]
  },
  {
   "cell_type": "markdown",
   "metadata": {},
   "source": [
    "## 결측치 채우기"
   ]
  },
  {
   "cell_type": "code",
   "execution_count": 17,
   "metadata": {
    "scrolled": true
   },
   "outputs": [
    {
     "data": {
      "text/plain": [
       "26"
      ]
     },
     "execution_count": 17,
     "metadata": {},
     "output_type": "execute_result"
    }
   ],
   "source": [
    "category=list(data['App Category'].unique())\n",
    "len(category)"
   ]
  },
  {
   "cell_type": "code",
   "execution_count": 18,
   "metadata": {},
   "outputs": [
    {
     "data": {
      "text/plain": [
       "{0: 'Games Casual',\n",
       " 1: 'Games Arcade',\n",
       " 2: 'Games Strategy',\n",
       " 3: 'Games Action',\n",
       " 4: 'Games Sports',\n",
       " 5: 'Games Music',\n",
       " 6: 'Games Card',\n",
       " 7: 'Games Racing',\n",
       " 8: 'Games Trivia',\n",
       " 9: 'Games Role Playing',\n",
       " 10: 'Games Word',\n",
       " 11: 'Games Simulation',\n",
       " 12: 'Games Casino',\n",
       " 13: 'Games Puzzle',\n",
       " 14: 'Games Family',\n",
       " 15: 'Games Adventure',\n",
       " 16: 'Games Board',\n",
       " 17: 'Games Educational',\n",
       " 18: 'Education',\n",
       " 19: 'Entertainment',\n",
       " 20: nan,\n",
       " 21: 'Games Arcade & Action',\n",
       " 22: 'Music & Audio',\n",
       " 23: 'Games Brain & Puzzle',\n",
       " 24: 'Social',\n",
       " 25: 'Health & Fitness'}"
      ]
     },
     "execution_count": 18,
     "metadata": {},
     "output_type": "execute_result"
    }
   ],
   "source": [
    "category_dict=dict(pd.Series(category))\n",
    "category_dict"
   ]
  },
  {
   "cell_type": "code",
   "execution_count": 19,
   "metadata": {
    "scrolled": false
   },
   "outputs": [
    {
     "data": {
      "text/plain": [
       "{'Games Casual': 0,\n",
       " 'Games Arcade': 1,\n",
       " 'Games Strategy': 2,\n",
       " 'Games Action': 3,\n",
       " 'Games Sports': 4,\n",
       " 'Games Music': 5,\n",
       " 'Games Card': 6,\n",
       " 'Games Racing': 7,\n",
       " 'Games Trivia': 8,\n",
       " 'Games Role Playing': 9,\n",
       " 'Games Word': 10,\n",
       " 'Games Simulation': 11,\n",
       " 'Games Casino': 12,\n",
       " 'Games Puzzle': 13,\n",
       " 'Games Family': 14,\n",
       " 'Games Adventure': 15,\n",
       " 'Games Board': 16,\n",
       " 'Games Educational': 17,\n",
       " 'Education': 18,\n",
       " 'Entertainment': 19,\n",
       " nan: 20,\n",
       " 'Games Arcade & Action': 21,\n",
       " 'Music & Audio': 22,\n",
       " 'Games Brain & Puzzle': 23,\n",
       " 'Social': 24,\n",
       " 'Health & Fitness': 25}"
      ]
     },
     "execution_count": 19,
     "metadata": {},
     "output_type": "execute_result"
    }
   ],
   "source": [
    "category_dict={v:k for k, v in category_dict.items()}\n",
    "category_dict"
   ]
  },
  {
   "cell_type": "code",
   "execution_count": 20,
   "metadata": {
    "scrolled": false
   },
   "outputs": [
    {
     "data": {
      "text/plain": [
       "Games Action             8590\n",
       "Games Arcade             8290\n",
       "Games Casual             7718\n",
       "Games Strategy           7123\n",
       "Games Role Playing       5967\n",
       "Games Puzzle             5168\n",
       "Games Racing             4622\n",
       "Games Simulation         4479\n",
       "Games Sports             4064\n",
       "Games Casino             3211\n",
       "Games Adventure          2700\n",
       "Games Card               2141\n",
       "Games Family             1221\n",
       "Games Trivia             1091\n",
       "Games Board               971\n",
       "Games Word                585\n",
       "Games Music               508\n",
       "Games Arcade & Action     397\n",
       "Games Educational         337\n",
       "Games Brain & Puzzle      158\n",
       "Social                     54\n",
       "Entertainment              19\n",
       "Music & Audio              18\n",
       "Health & Fitness            1\n",
       "Education                   1\n",
       "Name: App Category, dtype: int64"
      ]
     },
     "execution_count": 20,
     "metadata": {},
     "output_type": "execute_result"
    }
   ],
   "source": [
    "data['App Category'].value_counts()"
   ]
  },
  {
   "cell_type": "code",
   "execution_count": 21,
   "metadata": {},
   "outputs": [],
   "source": [
    "data['App Category']=data['App Category'].map(category_dict)"
   ]
  },
  {
   "cell_type": "code",
   "execution_count": 22,
   "metadata": {},
   "outputs": [
    {
     "data": {
      "text/html": [
       "<div>\n",
       "<style scoped>\n",
       "    .dataframe tbody tr th:only-of-type {\n",
       "        vertical-align: middle;\n",
       "    }\n",
       "\n",
       "    .dataframe tbody tr th {\n",
       "        vertical-align: top;\n",
       "    }\n",
       "\n",
       "    .dataframe thead th {\n",
       "        text-align: right;\n",
       "    }\n",
       "</style>\n",
       "<table border=\"1\" class=\"dataframe\">\n",
       "  <thead>\n",
       "    <tr style=\"text-align: right;\">\n",
       "      <th></th>\n",
       "      <th>Rank</th>\n",
       "      <th>Type</th>\n",
       "      <th>Period</th>\n",
       "      <th>Value</th>\n",
       "      <th>Unit</th>\n",
       "      <th>App IAP</th>\n",
       "      <th>App Category</th>\n",
       "      <th>App Start Price</th>\n",
       "      <th>App End Price</th>\n",
       "      <th>App Avg. Price</th>\n",
       "      <th>App Release Date</th>\n",
       "      <th>Avg. rating - All</th>\n",
       "      <th># of ratings - All</th>\n",
       "      <th># of 5 stars - All</th>\n",
       "      <th># of 4 stars - All</th>\n",
       "      <th># of 3 stars - All</th>\n",
       "      <th># of 2 stars - All</th>\n",
       "      <th># of 1 stars - All</th>\n",
       "    </tr>\n",
       "  </thead>\n",
       "  <tbody>\n",
       "    <tr>\n",
       "      <th>0</th>\n",
       "      <td>1</td>\n",
       "      <td>Free</td>\n",
       "      <td>14-Dec</td>\n",
       "      <td>142322</td>\n",
       "      <td>Downloads</td>\n",
       "      <td>True</td>\n",
       "      <td>0</td>\n",
       "      <td>0.0</td>\n",
       "      <td>0.0</td>\n",
       "      <td>0.0</td>\n",
       "      <td>2014-06-10</td>\n",
       "      <td>4.3</td>\n",
       "      <td>1330386</td>\n",
       "      <td>814338</td>\n",
       "      <td>270163</td>\n",
       "      <td>115783</td>\n",
       "      <td>51896</td>\n",
       "      <td>78206</td>\n",
       "    </tr>\n",
       "    <tr>\n",
       "      <th>1</th>\n",
       "      <td>2</td>\n",
       "      <td>Free</td>\n",
       "      <td>14-Dec</td>\n",
       "      <td>66453</td>\n",
       "      <td>Downloads</td>\n",
       "      <td>True</td>\n",
       "      <td>0</td>\n",
       "      <td>0.0</td>\n",
       "      <td>0.0</td>\n",
       "      <td>0.0</td>\n",
       "      <td>2012-11-16</td>\n",
       "      <td>4.3</td>\n",
       "      <td>10255021</td>\n",
       "      <td>6729342</td>\n",
       "      <td>1820359</td>\n",
       "      <td>745026</td>\n",
       "      <td>324031</td>\n",
       "      <td>636263</td>\n",
       "    </tr>\n",
       "    <tr>\n",
       "      <th>2</th>\n",
       "      <td>3</td>\n",
       "      <td>Free</td>\n",
       "      <td>14-Dec</td>\n",
       "      <td>61576</td>\n",
       "      <td>Downloads</td>\n",
       "      <td>True</td>\n",
       "      <td>0</td>\n",
       "      <td>NaN</td>\n",
       "      <td>0.0</td>\n",
       "      <td>0.0</td>\n",
       "      <td>2014-12-08</td>\n",
       "      <td>4.2</td>\n",
       "      <td>244649</td>\n",
       "      <td>156193</td>\n",
       "      <td>36249</td>\n",
       "      <td>20080</td>\n",
       "      <td>10502</td>\n",
       "      <td>21625</td>\n",
       "    </tr>\n",
       "    <tr>\n",
       "      <th>3</th>\n",
       "      <td>4</td>\n",
       "      <td>Free</td>\n",
       "      <td>14-Dec</td>\n",
       "      <td>60031</td>\n",
       "      <td>Downloads</td>\n",
       "      <td>True</td>\n",
       "      <td>1</td>\n",
       "      <td>0.0</td>\n",
       "      <td>0.0</td>\n",
       "      <td>0.0</td>\n",
       "      <td>2014-11-05</td>\n",
       "      <td>4.0</td>\n",
       "      <td>310673</td>\n",
       "      <td>158330</td>\n",
       "      <td>66278</td>\n",
       "      <td>39428</td>\n",
       "      <td>18147</td>\n",
       "      <td>28490</td>\n",
       "    </tr>\n",
       "    <tr>\n",
       "      <th>4</th>\n",
       "      <td>5</td>\n",
       "      <td>Free</td>\n",
       "      <td>14-Dec</td>\n",
       "      <td>59157</td>\n",
       "      <td>Downloads</td>\n",
       "      <td>True</td>\n",
       "      <td>1</td>\n",
       "      <td>0.0</td>\n",
       "      <td>0.0</td>\n",
       "      <td>0.0</td>\n",
       "      <td>2012-09-20</td>\n",
       "      <td>4.4</td>\n",
       "      <td>11932177</td>\n",
       "      <td>8655626</td>\n",
       "      <td>1576101</td>\n",
       "      <td>705977</td>\n",
       "      <td>346631</td>\n",
       "      <td>647842</td>\n",
       "    </tr>\n",
       "  </tbody>\n",
       "</table>\n",
       "</div>"
      ],
      "text/plain": [
       "   Rank  Type  Period   Value       Unit  App IAP  App Category  \\\n",
       "0     1  Free  14-Dec  142322  Downloads     True             0   \n",
       "1     2  Free  14-Dec   66453  Downloads     True             0   \n",
       "2     3  Free  14-Dec   61576  Downloads     True             0   \n",
       "3     4  Free  14-Dec   60031  Downloads     True             1   \n",
       "4     5  Free  14-Dec   59157  Downloads     True             1   \n",
       "\n",
       "   App Start Price  App End Price  App Avg. Price App Release Date  \\\n",
       "0              0.0            0.0             0.0       2014-06-10   \n",
       "1              0.0            0.0             0.0       2012-11-16   \n",
       "2              NaN            0.0             0.0       2014-12-08   \n",
       "3              0.0            0.0             0.0       2014-11-05   \n",
       "4              0.0            0.0             0.0       2012-09-20   \n",
       "\n",
       "   Avg. rating - All  # of ratings - All  # of 5 stars - All  \\\n",
       "0                4.3             1330386              814338   \n",
       "1                4.3            10255021             6729342   \n",
       "2                4.2              244649              156193   \n",
       "3                4.0              310673              158330   \n",
       "4                4.4            11932177             8655626   \n",
       "\n",
       "   # of 4 stars - All  # of 3 stars - All  # of 2 stars - All  \\\n",
       "0              270163              115783               51896   \n",
       "1             1820359              745026              324031   \n",
       "2               36249               20080               10502   \n",
       "3               66278               39428               18147   \n",
       "4             1576101              705977              346631   \n",
       "\n",
       "   # of 1 stars - All  \n",
       "0               78206  \n",
       "1              636263  \n",
       "2               21625  \n",
       "3               28490  \n",
       "4              647842  "
      ]
     },
     "execution_count": 22,
     "metadata": {},
     "output_type": "execute_result"
    }
   ],
   "source": [
    "data.head()"
   ]
  },
  {
   "cell_type": "code",
   "execution_count": 23,
   "metadata": {
    "scrolled": true
   },
   "outputs": [
    {
     "data": {
      "text/html": [
       "<div>\n",
       "<style scoped>\n",
       "    .dataframe tbody tr th:only-of-type {\n",
       "        vertical-align: middle;\n",
       "    }\n",
       "\n",
       "    .dataframe tbody tr th {\n",
       "        vertical-align: top;\n",
       "    }\n",
       "\n",
       "    .dataframe thead th {\n",
       "        text-align: right;\n",
       "    }\n",
       "</style>\n",
       "<table border=\"1\" class=\"dataframe\">\n",
       "  <thead>\n",
       "    <tr style=\"text-align: right;\">\n",
       "      <th></th>\n",
       "      <th>Rank</th>\n",
       "      <th>Type</th>\n",
       "      <th>Period</th>\n",
       "      <th>Value</th>\n",
       "      <th>Unit</th>\n",
       "      <th>App IAP</th>\n",
       "      <th>App Category</th>\n",
       "      <th>App Start Price</th>\n",
       "      <th>App End Price</th>\n",
       "      <th>App Avg. Price</th>\n",
       "      <th>App Release Date</th>\n",
       "      <th>Avg. rating - All</th>\n",
       "      <th># of ratings - All</th>\n",
       "      <th># of 5 stars - All</th>\n",
       "      <th># of 4 stars - All</th>\n",
       "      <th># of 3 stars - All</th>\n",
       "      <th># of 2 stars - All</th>\n",
       "      <th># of 1 stars - All</th>\n",
       "    </tr>\n",
       "  </thead>\n",
       "  <tbody>\n",
       "  </tbody>\n",
       "</table>\n",
       "</div>"
      ],
      "text/plain": [
       "Empty DataFrame\n",
       "Columns: [Rank, Type, Period, Value, Unit, App IAP, App Category, App Start Price, App End Price, App Avg. Price, App Release Date, Avg. rating - All, # of ratings - All, # of 5 stars - All, # of 4 stars - All, # of 3 stars - All, # of 2 stars - All, # of 1 stars - All]\n",
       "Index: []"
      ]
     },
     "execution_count": 23,
     "metadata": {},
     "output_type": "execute_result"
    }
   ],
   "source": [
    "data[data['App Category'].isnull()]"
   ]
  },
  {
   "cell_type": "code",
   "execution_count": 24,
   "metadata": {},
   "outputs": [
    {
     "data": {
      "text/html": [
       "<div>\n",
       "<style scoped>\n",
       "    .dataframe tbody tr th:only-of-type {\n",
       "        vertical-align: middle;\n",
       "    }\n",
       "\n",
       "    .dataframe tbody tr th {\n",
       "        vertical-align: top;\n",
       "    }\n",
       "\n",
       "    .dataframe thead th {\n",
       "        text-align: right;\n",
       "    }\n",
       "</style>\n",
       "<table border=\"1\" class=\"dataframe\">\n",
       "  <thead>\n",
       "    <tr style=\"text-align: right;\">\n",
       "      <th></th>\n",
       "      <th>Rank</th>\n",
       "      <th>Type</th>\n",
       "      <th>Period</th>\n",
       "      <th>Value</th>\n",
       "      <th>Unit</th>\n",
       "      <th>App IAP</th>\n",
       "      <th>App Category</th>\n",
       "      <th>App Start Price</th>\n",
       "      <th>App End Price</th>\n",
       "      <th>App Avg. Price</th>\n",
       "      <th>App Release Date</th>\n",
       "      <th>Avg. rating - All</th>\n",
       "      <th># of ratings - All</th>\n",
       "      <th># of 5 stars - All</th>\n",
       "      <th># of 4 stars - All</th>\n",
       "      <th># of 3 stars - All</th>\n",
       "      <th># of 2 stars - All</th>\n",
       "      <th># of 1 stars - All</th>\n",
       "    </tr>\n",
       "  </thead>\n",
       "  <tbody>\n",
       "    <tr>\n",
       "      <th>2</th>\n",
       "      <td>3</td>\n",
       "      <td>Free</td>\n",
       "      <td>14-Dec</td>\n",
       "      <td>61576</td>\n",
       "      <td>Downloads</td>\n",
       "      <td>True</td>\n",
       "      <td>0</td>\n",
       "      <td>NaN</td>\n",
       "      <td>0.0</td>\n",
       "      <td>0.0</td>\n",
       "      <td>2014-12-08</td>\n",
       "      <td>4.2</td>\n",
       "      <td>244649</td>\n",
       "      <td>156193</td>\n",
       "      <td>36249</td>\n",
       "      <td>20080</td>\n",
       "      <td>10502</td>\n",
       "      <td>21625</td>\n",
       "    </tr>\n",
       "    <tr>\n",
       "      <th>9</th>\n",
       "      <td>10</td>\n",
       "      <td>Free</td>\n",
       "      <td>14-Dec</td>\n",
       "      <td>40111</td>\n",
       "      <td>Downloads</td>\n",
       "      <td>True</td>\n",
       "      <td>6</td>\n",
       "      <td>NaN</td>\n",
       "      <td>0.0</td>\n",
       "      <td>0.0</td>\n",
       "      <td>2014-12-23</td>\n",
       "      <td>3.4</td>\n",
       "      <td>5</td>\n",
       "      <td>1</td>\n",
       "      <td>2</td>\n",
       "      <td>1</td>\n",
       "      <td>0</td>\n",
       "      <td>1</td>\n",
       "    </tr>\n",
       "    <tr>\n",
       "      <th>31</th>\n",
       "      <td>32</td>\n",
       "      <td>Free</td>\n",
       "      <td>14-Dec</td>\n",
       "      <td>27517</td>\n",
       "      <td>Downloads</td>\n",
       "      <td>True</td>\n",
       "      <td>7</td>\n",
       "      <td>NaN</td>\n",
       "      <td>0.0</td>\n",
       "      <td>0.0</td>\n",
       "      <td>2014-12-10</td>\n",
       "      <td>4.4</td>\n",
       "      <td>17721</td>\n",
       "      <td>11781</td>\n",
       "      <td>3261</td>\n",
       "      <td>1229</td>\n",
       "      <td>456</td>\n",
       "      <td>994</td>\n",
       "    </tr>\n",
       "    <tr>\n",
       "      <th>40</th>\n",
       "      <td>41</td>\n",
       "      <td>Free</td>\n",
       "      <td>14-Dec</td>\n",
       "      <td>25252</td>\n",
       "      <td>Downloads</td>\n",
       "      <td>True</td>\n",
       "      <td>12</td>\n",
       "      <td>NaN</td>\n",
       "      <td>0.0</td>\n",
       "      <td>0.0</td>\n",
       "      <td>2014-12-03</td>\n",
       "      <td>4.3</td>\n",
       "      <td>4070</td>\n",
       "      <td>2881</td>\n",
       "      <td>492</td>\n",
       "      <td>199</td>\n",
       "      <td>117</td>\n",
       "      <td>381</td>\n",
       "    </tr>\n",
       "    <tr>\n",
       "      <th>54</th>\n",
       "      <td>55</td>\n",
       "      <td>Free</td>\n",
       "      <td>14-Dec</td>\n",
       "      <td>20883</td>\n",
       "      <td>Downloads</td>\n",
       "      <td>True</td>\n",
       "      <td>3</td>\n",
       "      <td>NaN</td>\n",
       "      <td>0.0</td>\n",
       "      <td>0.0</td>\n",
       "      <td>2014-12-02</td>\n",
       "      <td>3.5</td>\n",
       "      <td>28125</td>\n",
       "      <td>12005</td>\n",
       "      <td>4369</td>\n",
       "      <td>3574</td>\n",
       "      <td>2297</td>\n",
       "      <td>5880</td>\n",
       "    </tr>\n",
       "    <tr>\n",
       "      <th>...</th>\n",
       "      <td>...</td>\n",
       "      <td>...</td>\n",
       "      <td>...</td>\n",
       "      <td>...</td>\n",
       "      <td>...</td>\n",
       "      <td>...</td>\n",
       "      <td>...</td>\n",
       "      <td>...</td>\n",
       "      <td>...</td>\n",
       "      <td>...</td>\n",
       "      <td>...</td>\n",
       "      <td>...</td>\n",
       "      <td>...</td>\n",
       "      <td>...</td>\n",
       "      <td>...</td>\n",
       "      <td>...</td>\n",
       "      <td>...</td>\n",
       "      <td>...</td>\n",
       "    </tr>\n",
       "    <tr>\n",
       "      <th>84951</th>\n",
       "      <td>52</td>\n",
       "      <td>Grossing</td>\n",
       "      <td>15-Jan</td>\n",
       "      <td>253237</td>\n",
       "      <td>USD</td>\n",
       "      <td>True</td>\n",
       "      <td>3</td>\n",
       "      <td>NaN</td>\n",
       "      <td>0.0</td>\n",
       "      <td>0.0</td>\n",
       "      <td>2015-01-17</td>\n",
       "      <td>4.5</td>\n",
       "      <td>45622</td>\n",
       "      <td>32867</td>\n",
       "      <td>7253</td>\n",
       "      <td>3081</td>\n",
       "      <td>708</td>\n",
       "      <td>1713</td>\n",
       "    </tr>\n",
       "    <tr>\n",
       "      <th>84968</th>\n",
       "      <td>69</td>\n",
       "      <td>Grossing</td>\n",
       "      <td>15-Jan</td>\n",
       "      <td>163199</td>\n",
       "      <td>USD</td>\n",
       "      <td>True</td>\n",
       "      <td>9</td>\n",
       "      <td>NaN</td>\n",
       "      <td>0.0</td>\n",
       "      <td>0.0</td>\n",
       "      <td>2015-01-05</td>\n",
       "      <td>4.2</td>\n",
       "      <td>19300</td>\n",
       "      <td>10989</td>\n",
       "      <td>4719</td>\n",
       "      <td>1953</td>\n",
       "      <td>465</td>\n",
       "      <td>1174</td>\n",
       "    </tr>\n",
       "    <tr>\n",
       "      <th>84976</th>\n",
       "      <td>77</td>\n",
       "      <td>Grossing</td>\n",
       "      <td>15-Jan</td>\n",
       "      <td>135641</td>\n",
       "      <td>USD</td>\n",
       "      <td>True</td>\n",
       "      <td>9</td>\n",
       "      <td>NaN</td>\n",
       "      <td>0.0</td>\n",
       "      <td>0.0</td>\n",
       "      <td>2015-01-05</td>\n",
       "      <td>4.1</td>\n",
       "      <td>11650</td>\n",
       "      <td>6732</td>\n",
       "      <td>2145</td>\n",
       "      <td>1204</td>\n",
       "      <td>339</td>\n",
       "      <td>1230</td>\n",
       "    </tr>\n",
       "    <tr>\n",
       "      <th>84982</th>\n",
       "      <td>83</td>\n",
       "      <td>Grossing</td>\n",
       "      <td>15-Jan</td>\n",
       "      <td>128867</td>\n",
       "      <td>USD</td>\n",
       "      <td>True</td>\n",
       "      <td>13</td>\n",
       "      <td>NaN</td>\n",
       "      <td>0.0</td>\n",
       "      <td>0.0</td>\n",
       "      <td>2015-01-05</td>\n",
       "      <td>4.3</td>\n",
       "      <td>17090</td>\n",
       "      <td>10244</td>\n",
       "      <td>3493</td>\n",
       "      <td>2215</td>\n",
       "      <td>478</td>\n",
       "      <td>660</td>\n",
       "    </tr>\n",
       "    <tr>\n",
       "      <th>84992</th>\n",
       "      <td>93</td>\n",
       "      <td>Grossing</td>\n",
       "      <td>15-Jan</td>\n",
       "      <td>114020</td>\n",
       "      <td>USD</td>\n",
       "      <td>True</td>\n",
       "      <td>9</td>\n",
       "      <td>NaN</td>\n",
       "      <td>0.0</td>\n",
       "      <td>0.0</td>\n",
       "      <td>2015-01-18</td>\n",
       "      <td>4.2</td>\n",
       "      <td>16370</td>\n",
       "      <td>9293</td>\n",
       "      <td>3419</td>\n",
       "      <td>1929</td>\n",
       "      <td>513</td>\n",
       "      <td>1216</td>\n",
       "    </tr>\n",
       "  </tbody>\n",
       "</table>\n",
       "<p>4305 rows × 18 columns</p>\n",
       "</div>"
      ],
      "text/plain": [
       "       Rank      Type  Period   Value       Unit  App IAP  App Category  \\\n",
       "2         3      Free  14-Dec   61576  Downloads     True             0   \n",
       "9        10      Free  14-Dec   40111  Downloads     True             6   \n",
       "31       32      Free  14-Dec   27517  Downloads     True             7   \n",
       "40       41      Free  14-Dec   25252  Downloads     True            12   \n",
       "54       55      Free  14-Dec   20883  Downloads     True             3   \n",
       "...     ...       ...     ...     ...        ...      ...           ...   \n",
       "84951    52  Grossing  15-Jan  253237        USD     True             3   \n",
       "84968    69  Grossing  15-Jan  163199        USD     True             9   \n",
       "84976    77  Grossing  15-Jan  135641        USD     True             9   \n",
       "84982    83  Grossing  15-Jan  128867        USD     True            13   \n",
       "84992    93  Grossing  15-Jan  114020        USD     True             9   \n",
       "\n",
       "       App Start Price  App End Price  App Avg. Price App Release Date  \\\n",
       "2                  NaN            0.0             0.0       2014-12-08   \n",
       "9                  NaN            0.0             0.0       2014-12-23   \n",
       "31                 NaN            0.0             0.0       2014-12-10   \n",
       "40                 NaN            0.0             0.0       2014-12-03   \n",
       "54                 NaN            0.0             0.0       2014-12-02   \n",
       "...                ...            ...             ...              ...   \n",
       "84951              NaN            0.0             0.0       2015-01-17   \n",
       "84968              NaN            0.0             0.0       2015-01-05   \n",
       "84976              NaN            0.0             0.0       2015-01-05   \n",
       "84982              NaN            0.0             0.0       2015-01-05   \n",
       "84992              NaN            0.0             0.0       2015-01-18   \n",
       "\n",
       "       Avg. rating - All  # of ratings - All  # of 5 stars - All  \\\n",
       "2                    4.2              244649              156193   \n",
       "9                    3.4                   5                   1   \n",
       "31                   4.4               17721               11781   \n",
       "40                   4.3                4070                2881   \n",
       "54                   3.5               28125               12005   \n",
       "...                  ...                 ...                 ...   \n",
       "84951                4.5               45622               32867   \n",
       "84968                4.2               19300               10989   \n",
       "84976                4.1               11650                6732   \n",
       "84982                4.3               17090               10244   \n",
       "84992                4.2               16370                9293   \n",
       "\n",
       "       # of 4 stars - All  # of 3 stars - All  # of 2 stars - All  \\\n",
       "2                   36249               20080               10502   \n",
       "9                       2                   1                   0   \n",
       "31                   3261                1229                 456   \n",
       "40                    492                 199                 117   \n",
       "54                   4369                3574                2297   \n",
       "...                   ...                 ...                 ...   \n",
       "84951                7253                3081                 708   \n",
       "84968                4719                1953                 465   \n",
       "84976                2145                1204                 339   \n",
       "84982                3493                2215                 478   \n",
       "84992                3419                1929                 513   \n",
       "\n",
       "       # of 1 stars - All  \n",
       "2                   21625  \n",
       "9                       1  \n",
       "31                    994  \n",
       "40                    381  \n",
       "54                   5880  \n",
       "...                   ...  \n",
       "84951                1713  \n",
       "84968                1174  \n",
       "84976                1230  \n",
       "84982                 660  \n",
       "84992                1216  \n",
       "\n",
       "[4305 rows x 18 columns]"
      ]
     },
     "execution_count": 24,
     "metadata": {},
     "output_type": "execute_result"
    }
   ],
   "source": [
    "data[data['App Start Price'].isnull()]"
   ]
  },
  {
   "cell_type": "code",
   "execution_count": 25,
   "metadata": {},
   "outputs": [],
   "source": [
    "data['App Start Price']=np.where(data['App Start Price'].isnull(), data['App Avg. Price'], data['App Start Price'])"
   ]
  },
  {
   "cell_type": "code",
   "execution_count": 26,
   "metadata": {},
   "outputs": [
    {
     "data": {
      "text/html": [
       "<div>\n",
       "<style scoped>\n",
       "    .dataframe tbody tr th:only-of-type {\n",
       "        vertical-align: middle;\n",
       "    }\n",
       "\n",
       "    .dataframe tbody tr th {\n",
       "        vertical-align: top;\n",
       "    }\n",
       "\n",
       "    .dataframe thead th {\n",
       "        text-align: right;\n",
       "    }\n",
       "</style>\n",
       "<table border=\"1\" class=\"dataframe\">\n",
       "  <thead>\n",
       "    <tr style=\"text-align: right;\">\n",
       "      <th></th>\n",
       "      <th>Rank</th>\n",
       "      <th>Type</th>\n",
       "      <th>Period</th>\n",
       "      <th>Value</th>\n",
       "      <th>Unit</th>\n",
       "      <th>App IAP</th>\n",
       "      <th>App Category</th>\n",
       "      <th>App Start Price</th>\n",
       "      <th>App End Price</th>\n",
       "      <th>App Avg. Price</th>\n",
       "      <th>App Release Date</th>\n",
       "      <th>Avg. rating - All</th>\n",
       "      <th># of ratings - All</th>\n",
       "      <th># of 5 stars - All</th>\n",
       "      <th># of 4 stars - All</th>\n",
       "      <th># of 3 stars - All</th>\n",
       "      <th># of 2 stars - All</th>\n",
       "      <th># of 1 stars - All</th>\n",
       "    </tr>\n",
       "  </thead>\n",
       "  <tbody>\n",
       "  </tbody>\n",
       "</table>\n",
       "</div>"
      ],
      "text/plain": [
       "Empty DataFrame\n",
       "Columns: [Rank, Type, Period, Value, Unit, App IAP, App Category, App Start Price, App End Price, App Avg. Price, App Release Date, Avg. rating - All, # of ratings - All, # of 5 stars - All, # of 4 stars - All, # of 3 stars - All, # of 2 stars - All, # of 1 stars - All]\n",
       "Index: []"
      ]
     },
     "execution_count": 26,
     "metadata": {},
     "output_type": "execute_result"
    }
   ],
   "source": [
    "data[data['App Start Price'].isnull()]"
   ]
  },
  {
   "cell_type": "markdown",
   "metadata": {},
   "source": [
    "data=data.fillna(method='ffill')\n",
    "data.head()"
   ]
  },
  {
   "cell_type": "markdown",
   "metadata": {},
   "source": [
    "## Period, App Release Date 열 분할"
   ]
  },
  {
   "cell_type": "code",
   "execution_count": 27,
   "metadata": {},
   "outputs": [
    {
     "data": {
      "text/plain": [
       "14-Dec    15100\n",
       "14-Nov    15100\n",
       "14-Oct    15100\n",
       "14-Sep    15100\n",
       "14-Feb     1200\n",
       "13-Jul     1200\n",
       "14-Mar     1200\n",
       "13-Aug     1200\n",
       "13-Jan     1200\n",
       "13-Nov     1200\n",
       "14-Aug     1200\n",
       "13-Sep     1200\n",
       "14-Jul     1200\n",
       "13-Apr     1200\n",
       "13-Dec     1200\n",
       "14-Jun     1200\n",
       "14-Apr     1200\n",
       "13-Mar     1200\n",
       "13-Oct     1200\n",
       "13-Feb     1200\n",
       "13-May     1200\n",
       "14-Jan     1200\n",
       "13-Jun     1200\n",
       "14-May     1200\n",
       "15-Jan      600\n",
       "Name: Period, dtype: int64"
      ]
     },
     "execution_count": 27,
     "metadata": {},
     "output_type": "execute_result"
    }
   ],
   "source": [
    "data.Period.value_counts()"
   ]
  },
  {
   "cell_type": "code",
   "execution_count": 28,
   "metadata": {
    "scrolled": false
   },
   "outputs": [
    {
     "data": {
      "text/html": [
       "<div>\n",
       "<style scoped>\n",
       "    .dataframe tbody tr th:only-of-type {\n",
       "        vertical-align: middle;\n",
       "    }\n",
       "\n",
       "    .dataframe tbody tr th {\n",
       "        vertical-align: top;\n",
       "    }\n",
       "\n",
       "    .dataframe thead th {\n",
       "        text-align: right;\n",
       "    }\n",
       "</style>\n",
       "<table border=\"1\" class=\"dataframe\">\n",
       "  <thead>\n",
       "    <tr style=\"text-align: right;\">\n",
       "      <th></th>\n",
       "      <th>Rank</th>\n",
       "      <th>Type</th>\n",
       "      <th>Period</th>\n",
       "      <th>Value</th>\n",
       "      <th>Unit</th>\n",
       "      <th>App IAP</th>\n",
       "      <th>App Category</th>\n",
       "      <th>App Start Price</th>\n",
       "      <th>App End Price</th>\n",
       "      <th>App Avg. Price</th>\n",
       "      <th>App Release Date</th>\n",
       "      <th>Avg. rating - All</th>\n",
       "      <th># of ratings - All</th>\n",
       "      <th># of 5 stars - All</th>\n",
       "      <th># of 4 stars - All</th>\n",
       "      <th># of 3 stars - All</th>\n",
       "      <th># of 2 stars - All</th>\n",
       "      <th># of 1 stars - All</th>\n",
       "      <th>Period Month</th>\n",
       "    </tr>\n",
       "  </thead>\n",
       "  <tbody>\n",
       "    <tr>\n",
       "      <th>0</th>\n",
       "      <td>1</td>\n",
       "      <td>Free</td>\n",
       "      <td>14-Dec</td>\n",
       "      <td>142322</td>\n",
       "      <td>Downloads</td>\n",
       "      <td>True</td>\n",
       "      <td>0</td>\n",
       "      <td>0.0</td>\n",
       "      <td>0.0</td>\n",
       "      <td>0.0</td>\n",
       "      <td>2014-06-10</td>\n",
       "      <td>4.3</td>\n",
       "      <td>1330386</td>\n",
       "      <td>814338</td>\n",
       "      <td>270163</td>\n",
       "      <td>115783</td>\n",
       "      <td>51896</td>\n",
       "      <td>78206</td>\n",
       "      <td>Dec</td>\n",
       "    </tr>\n",
       "    <tr>\n",
       "      <th>1</th>\n",
       "      <td>2</td>\n",
       "      <td>Free</td>\n",
       "      <td>14-Dec</td>\n",
       "      <td>66453</td>\n",
       "      <td>Downloads</td>\n",
       "      <td>True</td>\n",
       "      <td>0</td>\n",
       "      <td>0.0</td>\n",
       "      <td>0.0</td>\n",
       "      <td>0.0</td>\n",
       "      <td>2012-11-16</td>\n",
       "      <td>4.3</td>\n",
       "      <td>10255021</td>\n",
       "      <td>6729342</td>\n",
       "      <td>1820359</td>\n",
       "      <td>745026</td>\n",
       "      <td>324031</td>\n",
       "      <td>636263</td>\n",
       "      <td>Dec</td>\n",
       "    </tr>\n",
       "    <tr>\n",
       "      <th>2</th>\n",
       "      <td>3</td>\n",
       "      <td>Free</td>\n",
       "      <td>14-Dec</td>\n",
       "      <td>61576</td>\n",
       "      <td>Downloads</td>\n",
       "      <td>True</td>\n",
       "      <td>0</td>\n",
       "      <td>0.0</td>\n",
       "      <td>0.0</td>\n",
       "      <td>0.0</td>\n",
       "      <td>2014-12-08</td>\n",
       "      <td>4.2</td>\n",
       "      <td>244649</td>\n",
       "      <td>156193</td>\n",
       "      <td>36249</td>\n",
       "      <td>20080</td>\n",
       "      <td>10502</td>\n",
       "      <td>21625</td>\n",
       "      <td>Dec</td>\n",
       "    </tr>\n",
       "    <tr>\n",
       "      <th>3</th>\n",
       "      <td>4</td>\n",
       "      <td>Free</td>\n",
       "      <td>14-Dec</td>\n",
       "      <td>60031</td>\n",
       "      <td>Downloads</td>\n",
       "      <td>True</td>\n",
       "      <td>1</td>\n",
       "      <td>0.0</td>\n",
       "      <td>0.0</td>\n",
       "      <td>0.0</td>\n",
       "      <td>2014-11-05</td>\n",
       "      <td>4.0</td>\n",
       "      <td>310673</td>\n",
       "      <td>158330</td>\n",
       "      <td>66278</td>\n",
       "      <td>39428</td>\n",
       "      <td>18147</td>\n",
       "      <td>28490</td>\n",
       "      <td>Dec</td>\n",
       "    </tr>\n",
       "    <tr>\n",
       "      <th>4</th>\n",
       "      <td>5</td>\n",
       "      <td>Free</td>\n",
       "      <td>14-Dec</td>\n",
       "      <td>59157</td>\n",
       "      <td>Downloads</td>\n",
       "      <td>True</td>\n",
       "      <td>1</td>\n",
       "      <td>0.0</td>\n",
       "      <td>0.0</td>\n",
       "      <td>0.0</td>\n",
       "      <td>2012-09-20</td>\n",
       "      <td>4.4</td>\n",
       "      <td>11932177</td>\n",
       "      <td>8655626</td>\n",
       "      <td>1576101</td>\n",
       "      <td>705977</td>\n",
       "      <td>346631</td>\n",
       "      <td>647842</td>\n",
       "      <td>Dec</td>\n",
       "    </tr>\n",
       "  </tbody>\n",
       "</table>\n",
       "</div>"
      ],
      "text/plain": [
       "   Rank  Type  Period   Value       Unit  App IAP  App Category  \\\n",
       "0     1  Free  14-Dec  142322  Downloads     True             0   \n",
       "1     2  Free  14-Dec   66453  Downloads     True             0   \n",
       "2     3  Free  14-Dec   61576  Downloads     True             0   \n",
       "3     4  Free  14-Dec   60031  Downloads     True             1   \n",
       "4     5  Free  14-Dec   59157  Downloads     True             1   \n",
       "\n",
       "   App Start Price  App End Price  App Avg. Price App Release Date  \\\n",
       "0              0.0            0.0             0.0       2014-06-10   \n",
       "1              0.0            0.0             0.0       2012-11-16   \n",
       "2              0.0            0.0             0.0       2014-12-08   \n",
       "3              0.0            0.0             0.0       2014-11-05   \n",
       "4              0.0            0.0             0.0       2012-09-20   \n",
       "\n",
       "   Avg. rating - All  # of ratings - All  # of 5 stars - All  \\\n",
       "0                4.3             1330386              814338   \n",
       "1                4.3            10255021             6729342   \n",
       "2                4.2              244649              156193   \n",
       "3                4.0              310673              158330   \n",
       "4                4.4            11932177             8655626   \n",
       "\n",
       "   # of 4 stars - All  # of 3 stars - All  # of 2 stars - All  \\\n",
       "0              270163              115783               51896   \n",
       "1             1820359              745026              324031   \n",
       "2               36249               20080               10502   \n",
       "3               66278               39428               18147   \n",
       "4             1576101              705977              346631   \n",
       "\n",
       "   # of 1 stars - All Period Month  \n",
       "0               78206          Dec  \n",
       "1              636263          Dec  \n",
       "2               21625          Dec  \n",
       "3               28490          Dec  \n",
       "4              647842          Dec  "
      ]
     },
     "execution_count": 28,
     "metadata": {},
     "output_type": "execute_result"
    }
   ],
   "source": [
    "data['Period Month']=data['Period'].str.extract(r'([a-zA-Z]+)')\n",
    "data.head()"
   ]
  },
  {
   "cell_type": "code",
   "execution_count": 29,
   "metadata": {},
   "outputs": [
    {
     "data": {
      "text/plain": [
       "Nov    16300\n",
       "Sep    16300\n",
       "Oct    16300\n",
       "Dec    16300\n",
       "Jan     3000\n",
       "Aug     2400\n",
       "May     2400\n",
       "Feb     2400\n",
       "Apr     2400\n",
       "Jun     2400\n",
       "Jul     2400\n",
       "Mar     2400\n",
       "Name: Period Month, dtype: int64"
      ]
     },
     "execution_count": 29,
     "metadata": {},
     "output_type": "execute_result"
    }
   ],
   "source": [
    "data['Period Month'].value_counts()"
   ]
  },
  {
   "cell_type": "code",
   "execution_count": 30,
   "metadata": {},
   "outputs": [],
   "source": [
    "month_dict={'Jan':1, 'Feb':2, 'Mar':3, 'Apr':4, 'May':5, 'Jun':6, 'Jul':7, 'Aug':8, 'Sep':9, 'Oct':10, 'Nov':11, 'Dec':12}"
   ]
  },
  {
   "cell_type": "code",
   "execution_count": 31,
   "metadata": {},
   "outputs": [],
   "source": [
    "data['Period Month']=data['Period Month'].map(month_dict)"
   ]
  },
  {
   "cell_type": "code",
   "execution_count": 32,
   "metadata": {},
   "outputs": [
    {
     "data": {
      "text/plain": [
       "2013-09-30    747\n",
       "2013-01-24    660\n",
       "2012-09-20    624\n",
       "2014-04-17    617\n",
       "2013-12-11    587\n",
       "             ... \n",
       "2014-07-11      1\n",
       "2011-05-25      1\n",
       "2012-05-26      1\n",
       "2012-09-23      1\n",
       "2014-04-19      1\n",
       "Name: App Release Date, Length: 1171, dtype: int64"
      ]
     },
     "execution_count": 32,
     "metadata": {},
     "output_type": "execute_result"
    }
   ],
   "source": [
    "data['App Release Date'].value_counts()"
   ]
  },
  {
   "cell_type": "code",
   "execution_count": 33,
   "metadata": {},
   "outputs": [
    {
     "data": {
      "text/html": [
       "<div>\n",
       "<style scoped>\n",
       "    .dataframe tbody tr th:only-of-type {\n",
       "        vertical-align: middle;\n",
       "    }\n",
       "\n",
       "    .dataframe tbody tr th {\n",
       "        vertical-align: top;\n",
       "    }\n",
       "\n",
       "    .dataframe thead th {\n",
       "        text-align: right;\n",
       "    }\n",
       "</style>\n",
       "<table border=\"1\" class=\"dataframe\">\n",
       "  <thead>\n",
       "    <tr style=\"text-align: right;\">\n",
       "      <th></th>\n",
       "      <th>Rank</th>\n",
       "      <th>Type</th>\n",
       "      <th>Period</th>\n",
       "      <th>Value</th>\n",
       "      <th>Unit</th>\n",
       "      <th>App IAP</th>\n",
       "      <th>App Category</th>\n",
       "      <th>App Start Price</th>\n",
       "      <th>App End Price</th>\n",
       "      <th>App Avg. Price</th>\n",
       "      <th>...</th>\n",
       "      <th># of ratings - All</th>\n",
       "      <th># of 5 stars - All</th>\n",
       "      <th># of 4 stars - All</th>\n",
       "      <th># of 3 stars - All</th>\n",
       "      <th># of 2 stars - All</th>\n",
       "      <th># of 1 stars - All</th>\n",
       "      <th>Period Month</th>\n",
       "      <th>App Release Year</th>\n",
       "      <th>App Release Month</th>\n",
       "      <th>App Release Day</th>\n",
       "    </tr>\n",
       "  </thead>\n",
       "  <tbody>\n",
       "    <tr>\n",
       "      <th>0</th>\n",
       "      <td>1</td>\n",
       "      <td>Free</td>\n",
       "      <td>14-Dec</td>\n",
       "      <td>142322</td>\n",
       "      <td>Downloads</td>\n",
       "      <td>True</td>\n",
       "      <td>0</td>\n",
       "      <td>0.0</td>\n",
       "      <td>0.0</td>\n",
       "      <td>0.0</td>\n",
       "      <td>...</td>\n",
       "      <td>1330386</td>\n",
       "      <td>814338</td>\n",
       "      <td>270163</td>\n",
       "      <td>115783</td>\n",
       "      <td>51896</td>\n",
       "      <td>78206</td>\n",
       "      <td>12</td>\n",
       "      <td>2014</td>\n",
       "      <td>6</td>\n",
       "      <td>10</td>\n",
       "    </tr>\n",
       "    <tr>\n",
       "      <th>1</th>\n",
       "      <td>2</td>\n",
       "      <td>Free</td>\n",
       "      <td>14-Dec</td>\n",
       "      <td>66453</td>\n",
       "      <td>Downloads</td>\n",
       "      <td>True</td>\n",
       "      <td>0</td>\n",
       "      <td>0.0</td>\n",
       "      <td>0.0</td>\n",
       "      <td>0.0</td>\n",
       "      <td>...</td>\n",
       "      <td>10255021</td>\n",
       "      <td>6729342</td>\n",
       "      <td>1820359</td>\n",
       "      <td>745026</td>\n",
       "      <td>324031</td>\n",
       "      <td>636263</td>\n",
       "      <td>12</td>\n",
       "      <td>2012</td>\n",
       "      <td>11</td>\n",
       "      <td>16</td>\n",
       "    </tr>\n",
       "    <tr>\n",
       "      <th>2</th>\n",
       "      <td>3</td>\n",
       "      <td>Free</td>\n",
       "      <td>14-Dec</td>\n",
       "      <td>61576</td>\n",
       "      <td>Downloads</td>\n",
       "      <td>True</td>\n",
       "      <td>0</td>\n",
       "      <td>0.0</td>\n",
       "      <td>0.0</td>\n",
       "      <td>0.0</td>\n",
       "      <td>...</td>\n",
       "      <td>244649</td>\n",
       "      <td>156193</td>\n",
       "      <td>36249</td>\n",
       "      <td>20080</td>\n",
       "      <td>10502</td>\n",
       "      <td>21625</td>\n",
       "      <td>12</td>\n",
       "      <td>2014</td>\n",
       "      <td>12</td>\n",
       "      <td>8</td>\n",
       "    </tr>\n",
       "    <tr>\n",
       "      <th>3</th>\n",
       "      <td>4</td>\n",
       "      <td>Free</td>\n",
       "      <td>14-Dec</td>\n",
       "      <td>60031</td>\n",
       "      <td>Downloads</td>\n",
       "      <td>True</td>\n",
       "      <td>1</td>\n",
       "      <td>0.0</td>\n",
       "      <td>0.0</td>\n",
       "      <td>0.0</td>\n",
       "      <td>...</td>\n",
       "      <td>310673</td>\n",
       "      <td>158330</td>\n",
       "      <td>66278</td>\n",
       "      <td>39428</td>\n",
       "      <td>18147</td>\n",
       "      <td>28490</td>\n",
       "      <td>12</td>\n",
       "      <td>2014</td>\n",
       "      <td>11</td>\n",
       "      <td>5</td>\n",
       "    </tr>\n",
       "    <tr>\n",
       "      <th>4</th>\n",
       "      <td>5</td>\n",
       "      <td>Free</td>\n",
       "      <td>14-Dec</td>\n",
       "      <td>59157</td>\n",
       "      <td>Downloads</td>\n",
       "      <td>True</td>\n",
       "      <td>1</td>\n",
       "      <td>0.0</td>\n",
       "      <td>0.0</td>\n",
       "      <td>0.0</td>\n",
       "      <td>...</td>\n",
       "      <td>11932177</td>\n",
       "      <td>8655626</td>\n",
       "      <td>1576101</td>\n",
       "      <td>705977</td>\n",
       "      <td>346631</td>\n",
       "      <td>647842</td>\n",
       "      <td>12</td>\n",
       "      <td>2012</td>\n",
       "      <td>9</td>\n",
       "      <td>20</td>\n",
       "    </tr>\n",
       "  </tbody>\n",
       "</table>\n",
       "<p>5 rows × 22 columns</p>\n",
       "</div>"
      ],
      "text/plain": [
       "   Rank  Type  Period   Value       Unit  App IAP  App Category  \\\n",
       "0     1  Free  14-Dec  142322  Downloads     True             0   \n",
       "1     2  Free  14-Dec   66453  Downloads     True             0   \n",
       "2     3  Free  14-Dec   61576  Downloads     True             0   \n",
       "3     4  Free  14-Dec   60031  Downloads     True             1   \n",
       "4     5  Free  14-Dec   59157  Downloads     True             1   \n",
       "\n",
       "   App Start Price  App End Price  App Avg. Price  ... # of ratings - All  \\\n",
       "0              0.0            0.0             0.0  ...            1330386   \n",
       "1              0.0            0.0             0.0  ...           10255021   \n",
       "2              0.0            0.0             0.0  ...             244649   \n",
       "3              0.0            0.0             0.0  ...             310673   \n",
       "4              0.0            0.0             0.0  ...           11932177   \n",
       "\n",
       "   # of 5 stars - All  # of 4 stars - All  # of 3 stars - All  \\\n",
       "0              814338              270163              115783   \n",
       "1             6729342             1820359              745026   \n",
       "2              156193               36249               20080   \n",
       "3              158330               66278               39428   \n",
       "4             8655626             1576101              705977   \n",
       "\n",
       "   # of 2 stars - All  # of 1 stars - All  Period Month  App Release Year  \\\n",
       "0               51896               78206            12              2014   \n",
       "1              324031              636263            12              2012   \n",
       "2               10502               21625            12              2014   \n",
       "3               18147               28490            12              2014   \n",
       "4              346631              647842            12              2012   \n",
       "\n",
       "   App Release Month  App Release Day  \n",
       "0                  6               10  \n",
       "1                 11               16  \n",
       "2                 12                8  \n",
       "3                 11                5  \n",
       "4                  9               20  \n",
       "\n",
       "[5 rows x 22 columns]"
      ]
     },
     "execution_count": 33,
     "metadata": {},
     "output_type": "execute_result"
    }
   ],
   "source": [
    "data['App Release Year']=data['App Release Date'].dt.year\n",
    "data['App Release Month']=data['App Release Date'].dt.month\n",
    "data['App Release Day']=data['App Release Date'].dt.day\n",
    "data.head()"
   ]
  },
  {
   "cell_type": "code",
   "execution_count": 34,
   "metadata": {},
   "outputs": [
    {
     "data": {
      "text/html": [
       "<div>\n",
       "<style scoped>\n",
       "    .dataframe tbody tr th:only-of-type {\n",
       "        vertical-align: middle;\n",
       "    }\n",
       "\n",
       "    .dataframe tbody tr th {\n",
       "        vertical-align: top;\n",
       "    }\n",
       "\n",
       "    .dataframe thead th {\n",
       "        text-align: right;\n",
       "    }\n",
       "</style>\n",
       "<table border=\"1\" class=\"dataframe\">\n",
       "  <thead>\n",
       "    <tr style=\"text-align: right;\">\n",
       "      <th></th>\n",
       "      <th>Rank</th>\n",
       "      <th>Type</th>\n",
       "      <th>Value</th>\n",
       "      <th>Unit</th>\n",
       "      <th>App IAP</th>\n",
       "      <th>App Category</th>\n",
       "      <th>App Start Price</th>\n",
       "      <th>App End Price</th>\n",
       "      <th>App Avg. Price</th>\n",
       "      <th>Avg. rating - All</th>\n",
       "      <th># of ratings - All</th>\n",
       "      <th># of 5 stars - All</th>\n",
       "      <th># of 4 stars - All</th>\n",
       "      <th># of 3 stars - All</th>\n",
       "      <th># of 2 stars - All</th>\n",
       "      <th># of 1 stars - All</th>\n",
       "      <th>Period Month</th>\n",
       "      <th>App Release Year</th>\n",
       "      <th>App Release Month</th>\n",
       "      <th>App Release Day</th>\n",
       "    </tr>\n",
       "  </thead>\n",
       "  <tbody>\n",
       "    <tr>\n",
       "      <th>0</th>\n",
       "      <td>1</td>\n",
       "      <td>Free</td>\n",
       "      <td>142322</td>\n",
       "      <td>Downloads</td>\n",
       "      <td>True</td>\n",
       "      <td>0</td>\n",
       "      <td>0.0</td>\n",
       "      <td>0.0</td>\n",
       "      <td>0.0</td>\n",
       "      <td>4.3</td>\n",
       "      <td>1330386</td>\n",
       "      <td>814338</td>\n",
       "      <td>270163</td>\n",
       "      <td>115783</td>\n",
       "      <td>51896</td>\n",
       "      <td>78206</td>\n",
       "      <td>12</td>\n",
       "      <td>2014</td>\n",
       "      <td>6</td>\n",
       "      <td>10</td>\n",
       "    </tr>\n",
       "    <tr>\n",
       "      <th>1</th>\n",
       "      <td>2</td>\n",
       "      <td>Free</td>\n",
       "      <td>66453</td>\n",
       "      <td>Downloads</td>\n",
       "      <td>True</td>\n",
       "      <td>0</td>\n",
       "      <td>0.0</td>\n",
       "      <td>0.0</td>\n",
       "      <td>0.0</td>\n",
       "      <td>4.3</td>\n",
       "      <td>10255021</td>\n",
       "      <td>6729342</td>\n",
       "      <td>1820359</td>\n",
       "      <td>745026</td>\n",
       "      <td>324031</td>\n",
       "      <td>636263</td>\n",
       "      <td>12</td>\n",
       "      <td>2012</td>\n",
       "      <td>11</td>\n",
       "      <td>16</td>\n",
       "    </tr>\n",
       "    <tr>\n",
       "      <th>2</th>\n",
       "      <td>3</td>\n",
       "      <td>Free</td>\n",
       "      <td>61576</td>\n",
       "      <td>Downloads</td>\n",
       "      <td>True</td>\n",
       "      <td>0</td>\n",
       "      <td>0.0</td>\n",
       "      <td>0.0</td>\n",
       "      <td>0.0</td>\n",
       "      <td>4.2</td>\n",
       "      <td>244649</td>\n",
       "      <td>156193</td>\n",
       "      <td>36249</td>\n",
       "      <td>20080</td>\n",
       "      <td>10502</td>\n",
       "      <td>21625</td>\n",
       "      <td>12</td>\n",
       "      <td>2014</td>\n",
       "      <td>12</td>\n",
       "      <td>8</td>\n",
       "    </tr>\n",
       "    <tr>\n",
       "      <th>3</th>\n",
       "      <td>4</td>\n",
       "      <td>Free</td>\n",
       "      <td>60031</td>\n",
       "      <td>Downloads</td>\n",
       "      <td>True</td>\n",
       "      <td>1</td>\n",
       "      <td>0.0</td>\n",
       "      <td>0.0</td>\n",
       "      <td>0.0</td>\n",
       "      <td>4.0</td>\n",
       "      <td>310673</td>\n",
       "      <td>158330</td>\n",
       "      <td>66278</td>\n",
       "      <td>39428</td>\n",
       "      <td>18147</td>\n",
       "      <td>28490</td>\n",
       "      <td>12</td>\n",
       "      <td>2014</td>\n",
       "      <td>11</td>\n",
       "      <td>5</td>\n",
       "    </tr>\n",
       "    <tr>\n",
       "      <th>4</th>\n",
       "      <td>5</td>\n",
       "      <td>Free</td>\n",
       "      <td>59157</td>\n",
       "      <td>Downloads</td>\n",
       "      <td>True</td>\n",
       "      <td>1</td>\n",
       "      <td>0.0</td>\n",
       "      <td>0.0</td>\n",
       "      <td>0.0</td>\n",
       "      <td>4.4</td>\n",
       "      <td>11932177</td>\n",
       "      <td>8655626</td>\n",
       "      <td>1576101</td>\n",
       "      <td>705977</td>\n",
       "      <td>346631</td>\n",
       "      <td>647842</td>\n",
       "      <td>12</td>\n",
       "      <td>2012</td>\n",
       "      <td>9</td>\n",
       "      <td>20</td>\n",
       "    </tr>\n",
       "  </tbody>\n",
       "</table>\n",
       "</div>"
      ],
      "text/plain": [
       "   Rank  Type   Value       Unit  App IAP  App Category  App Start Price  \\\n",
       "0     1  Free  142322  Downloads     True             0              0.0   \n",
       "1     2  Free   66453  Downloads     True             0              0.0   \n",
       "2     3  Free   61576  Downloads     True             0              0.0   \n",
       "3     4  Free   60031  Downloads     True             1              0.0   \n",
       "4     5  Free   59157  Downloads     True             1              0.0   \n",
       "\n",
       "   App End Price  App Avg. Price  Avg. rating - All  # of ratings - All  \\\n",
       "0            0.0             0.0                4.3             1330386   \n",
       "1            0.0             0.0                4.3            10255021   \n",
       "2            0.0             0.0                4.2              244649   \n",
       "3            0.0             0.0                4.0              310673   \n",
       "4            0.0             0.0                4.4            11932177   \n",
       "\n",
       "   # of 5 stars - All  # of 4 stars - All  # of 3 stars - All  \\\n",
       "0              814338              270163              115783   \n",
       "1             6729342             1820359              745026   \n",
       "2              156193               36249               20080   \n",
       "3              158330               66278               39428   \n",
       "4             8655626             1576101              705977   \n",
       "\n",
       "   # of 2 stars - All  # of 1 stars - All  Period Month  App Release Year  \\\n",
       "0               51896               78206            12              2014   \n",
       "1              324031              636263            12              2012   \n",
       "2               10502               21625            12              2014   \n",
       "3               18147               28490            12              2014   \n",
       "4              346631              647842            12              2012   \n",
       "\n",
       "   App Release Month  App Release Day  \n",
       "0                  6               10  \n",
       "1                 11               16  \n",
       "2                 12                8  \n",
       "3                 11                5  \n",
       "4                  9               20  "
      ]
     },
     "execution_count": 34,
     "metadata": {},
     "output_type": "execute_result"
    }
   ],
   "source": [
    "data=data.drop(['Period', 'App Release Date'], axis='columns')\n",
    "data.head()"
   ]
  },
  {
   "cell_type": "markdown",
   "metadata": {},
   "source": [
    "## 불필요한 컬럼 (평균 값 대체 가능) 제외"
   ]
  },
  {
   "cell_type": "code",
   "execution_count": 35,
   "metadata": {
    "scrolled": true
   },
   "outputs": [
    {
     "data": {
      "text/plain": [
       "5971921    100\n",
       "5183654    100\n",
       "6411653     99\n",
       "7194081     99\n",
       "2635061     97\n",
       "          ... \n",
       "133433       1\n",
       "3539         1\n",
       "15829        1\n",
       "4666         1\n",
       "13832        1\n",
       "Name: # of 5 stars - All, Length: 16848, dtype: int64"
      ]
     },
     "execution_count": 35,
     "metadata": {},
     "output_type": "execute_result"
    }
   ],
   "source": [
    "data['# of 5 stars - All'].value_counts()"
   ]
  },
  {
   "cell_type": "code",
   "execution_count": 36,
   "metadata": {},
   "outputs": [
    {
     "data": {
      "text/plain": [
       "0        223\n",
       "1        163\n",
       "3        142\n",
       "2        108\n",
       "363      107\n",
       "        ... \n",
       "23876      1\n",
       "68910      1\n",
       "3768       1\n",
       "4199       1\n",
       "6616       1\n",
       "Name: # of 4 stars - All, Length: 11753, dtype: int64"
      ]
     },
     "execution_count": 36,
     "metadata": {},
     "output_type": "execute_result"
    }
   ],
   "source": [
    "data['# of 4 stars - All'].value_counts()"
   ]
  },
  {
   "cell_type": "code",
   "execution_count": 37,
   "metadata": {},
   "outputs": [
    {
     "data": {
      "text/plain": [
       "0        318\n",
       "2        213\n",
       "1        208\n",
       "22       187\n",
       "4        168\n",
       "        ... \n",
       "18593      1\n",
       "4685       1\n",
       "4330       1\n",
       "10826      1\n",
       "2047       1\n",
       "Name: # of 3 stars - All, Length: 9476, dtype: int64"
      ]
     },
     "execution_count": 37,
     "metadata": {},
     "output_type": "execute_result"
    }
   ],
   "source": [
    "data['# of 3 stars - All'].value_counts()"
   ]
  },
  {
   "cell_type": "code",
   "execution_count": 38,
   "metadata": {},
   "outputs": [
    {
     "data": {
      "text/plain": [
       "0        564\n",
       "1        379\n",
       "9        271\n",
       "3        269\n",
       "2        269\n",
       "        ... \n",
       "3855       1\n",
       "5964       1\n",
       "3919       1\n",
       "13544      1\n",
       "6441       1\n",
       "Name: # of 2 stars - All, Length: 6773, dtype: int64"
      ]
     },
     "execution_count": 38,
     "metadata": {},
     "output_type": "execute_result"
    }
   ],
   "source": [
    "data['# of 2 stars - All'].value_counts()"
   ]
  },
  {
   "cell_type": "code",
   "execution_count": 39,
   "metadata": {
    "scrolled": true
   },
   "outputs": [
    {
     "data": {
      "text/plain": [
       "0        380\n",
       "1        212\n",
       "2        193\n",
       "4        161\n",
       "6        156\n",
       "        ... \n",
       "3468       1\n",
       "23224      1\n",
       "38175      1\n",
       "1293       1\n",
       "8273       1\n",
       "Name: # of 1 stars - All, Length: 9490, dtype: int64"
      ]
     },
     "execution_count": 39,
     "metadata": {},
     "output_type": "execute_result"
    }
   ],
   "source": [
    "data['# of 1 stars - All'].value_counts()"
   ]
  },
  {
   "cell_type": "code",
   "execution_count": 40,
   "metadata": {},
   "outputs": [
    {
     "data": {
      "text/html": [
       "<div>\n",
       "<style scoped>\n",
       "    .dataframe tbody tr th:only-of-type {\n",
       "        vertical-align: middle;\n",
       "    }\n",
       "\n",
       "    .dataframe tbody tr th {\n",
       "        vertical-align: top;\n",
       "    }\n",
       "\n",
       "    .dataframe thead th {\n",
       "        text-align: right;\n",
       "    }\n",
       "</style>\n",
       "<table border=\"1\" class=\"dataframe\">\n",
       "  <thead>\n",
       "    <tr style=\"text-align: right;\">\n",
       "      <th></th>\n",
       "      <th>Rank</th>\n",
       "      <th>Type</th>\n",
       "      <th>Value</th>\n",
       "      <th>Unit</th>\n",
       "      <th>App IAP</th>\n",
       "      <th>App Category</th>\n",
       "      <th>App Start Price</th>\n",
       "      <th>App End Price</th>\n",
       "      <th>App Avg. Price</th>\n",
       "      <th>Avg. rating - All</th>\n",
       "      <th># of ratings - All</th>\n",
       "      <th>Period Month</th>\n",
       "      <th>App Release Year</th>\n",
       "      <th>App Release Month</th>\n",
       "      <th>App Release Day</th>\n",
       "    </tr>\n",
       "  </thead>\n",
       "  <tbody>\n",
       "    <tr>\n",
       "      <th>0</th>\n",
       "      <td>1</td>\n",
       "      <td>Free</td>\n",
       "      <td>142322</td>\n",
       "      <td>Downloads</td>\n",
       "      <td>True</td>\n",
       "      <td>0</td>\n",
       "      <td>0.0</td>\n",
       "      <td>0.0</td>\n",
       "      <td>0.0</td>\n",
       "      <td>4.3</td>\n",
       "      <td>1330386</td>\n",
       "      <td>12</td>\n",
       "      <td>2014</td>\n",
       "      <td>6</td>\n",
       "      <td>10</td>\n",
       "    </tr>\n",
       "    <tr>\n",
       "      <th>1</th>\n",
       "      <td>2</td>\n",
       "      <td>Free</td>\n",
       "      <td>66453</td>\n",
       "      <td>Downloads</td>\n",
       "      <td>True</td>\n",
       "      <td>0</td>\n",
       "      <td>0.0</td>\n",
       "      <td>0.0</td>\n",
       "      <td>0.0</td>\n",
       "      <td>4.3</td>\n",
       "      <td>10255021</td>\n",
       "      <td>12</td>\n",
       "      <td>2012</td>\n",
       "      <td>11</td>\n",
       "      <td>16</td>\n",
       "    </tr>\n",
       "    <tr>\n",
       "      <th>2</th>\n",
       "      <td>3</td>\n",
       "      <td>Free</td>\n",
       "      <td>61576</td>\n",
       "      <td>Downloads</td>\n",
       "      <td>True</td>\n",
       "      <td>0</td>\n",
       "      <td>0.0</td>\n",
       "      <td>0.0</td>\n",
       "      <td>0.0</td>\n",
       "      <td>4.2</td>\n",
       "      <td>244649</td>\n",
       "      <td>12</td>\n",
       "      <td>2014</td>\n",
       "      <td>12</td>\n",
       "      <td>8</td>\n",
       "    </tr>\n",
       "    <tr>\n",
       "      <th>3</th>\n",
       "      <td>4</td>\n",
       "      <td>Free</td>\n",
       "      <td>60031</td>\n",
       "      <td>Downloads</td>\n",
       "      <td>True</td>\n",
       "      <td>1</td>\n",
       "      <td>0.0</td>\n",
       "      <td>0.0</td>\n",
       "      <td>0.0</td>\n",
       "      <td>4.0</td>\n",
       "      <td>310673</td>\n",
       "      <td>12</td>\n",
       "      <td>2014</td>\n",
       "      <td>11</td>\n",
       "      <td>5</td>\n",
       "    </tr>\n",
       "    <tr>\n",
       "      <th>4</th>\n",
       "      <td>5</td>\n",
       "      <td>Free</td>\n",
       "      <td>59157</td>\n",
       "      <td>Downloads</td>\n",
       "      <td>True</td>\n",
       "      <td>1</td>\n",
       "      <td>0.0</td>\n",
       "      <td>0.0</td>\n",
       "      <td>0.0</td>\n",
       "      <td>4.4</td>\n",
       "      <td>11932177</td>\n",
       "      <td>12</td>\n",
       "      <td>2012</td>\n",
       "      <td>9</td>\n",
       "      <td>20</td>\n",
       "    </tr>\n",
       "  </tbody>\n",
       "</table>\n",
       "</div>"
      ],
      "text/plain": [
       "   Rank  Type   Value       Unit  App IAP  App Category  App Start Price  \\\n",
       "0     1  Free  142322  Downloads     True             0              0.0   \n",
       "1     2  Free   66453  Downloads     True             0              0.0   \n",
       "2     3  Free   61576  Downloads     True             0              0.0   \n",
       "3     4  Free   60031  Downloads     True             1              0.0   \n",
       "4     5  Free   59157  Downloads     True             1              0.0   \n",
       "\n",
       "   App End Price  App Avg. Price  Avg. rating - All  # of ratings - All  \\\n",
       "0            0.0             0.0                4.3             1330386   \n",
       "1            0.0             0.0                4.3            10255021   \n",
       "2            0.0             0.0                4.2              244649   \n",
       "3            0.0             0.0                4.0              310673   \n",
       "4            0.0             0.0                4.4            11932177   \n",
       "\n",
       "   Period Month  App Release Year  App Release Month  App Release Day  \n",
       "0            12              2014                  6               10  \n",
       "1            12              2012                 11               16  \n",
       "2            12              2014                 12                8  \n",
       "3            12              2014                 11                5  \n",
       "4            12              2012                  9               20  "
      ]
     },
     "execution_count": 40,
     "metadata": {},
     "output_type": "execute_result"
    }
   ],
   "source": [
    "data=data.drop(['# of 1 stars - All', '# of 2 stars - All', '# of 3 stars - All', '# of 4 stars - All', '# of 5 stars - All'], axis='columns')\n",
    "data.head()"
   ]
  },
  {
   "cell_type": "markdown",
   "metadata": {},
   "source": [
    "## 평점 데이터 전처리"
   ]
  },
  {
   "cell_type": "code",
   "execution_count": 41,
   "metadata": {
    "scrolled": false
   },
   "outputs": [
    {
     "data": {
      "text/plain": [
       "4.4    14695\n",
       "4.3    12882\n",
       "4.2    11868\n",
       "4.5     8133\n",
       "4.1     7610\n",
       "4.6     6249\n",
       "4.0     4688\n",
       "3.9     3414\n",
       "4.7     3319\n",
       "3.8     3170\n",
       "3.7     1922\n",
       "3.6     1441\n",
       "3.5     1085\n",
       "3.4     1032\n",
       "4.8     1018\n",
       "3.3      639\n",
       "3.2      369\n",
       "4.9      306\n",
       "3.1      271\n",
       "3.0      225\n",
       "2.9      147\n",
       "2.6      107\n",
       "2.8       95\n",
       "5.0       66\n",
       "2.5       48\n",
       "2.7       47\n",
       "0.0       35\n",
       "2.4       34\n",
       "2.2       22\n",
       "2.3       22\n",
       "2.0       13\n",
       "1.8        7\n",
       "1.0        7\n",
       "2.1        5\n",
       "1.6        4\n",
       "1.9        4\n",
       "1.5        1\n",
       "Name: Avg. rating - All, dtype: int64"
      ]
     },
     "execution_count": 41,
     "metadata": {},
     "output_type": "execute_result"
    }
   ],
   "source": [
    "data['Avg. rating - All'].value_counts()"
   ]
  },
  {
   "cell_type": "code",
   "execution_count": 42,
   "metadata": {},
   "outputs": [
    {
     "data": {
      "text/plain": [
       "4    70834\n",
       "3    13568\n",
       "2      540\n",
       "1       58\n",
       "Name: Avg. rating - All, dtype: int64"
      ]
     },
     "execution_count": 42,
     "metadata": {},
     "output_type": "execute_result"
    }
   ],
   "source": [
    "data['Avg. rating - All']=np.where(data['Avg. rating - All']>=4.0, 4, np.where(data['Avg. rating - All']>=3.0, 3, np.where(data['Avg. rating - All']>=2.0, 2, 1)))\n",
    "data['Avg. rating - All'].value_counts()"
   ]
  },
  {
   "cell_type": "code",
   "execution_count": 43,
   "metadata": {
    "scrolled": false
   },
   "outputs": [
    {
     "data": {
      "text/plain": [
       "6696611    100\n",
       "7719771    100\n",
       "8286905     99\n",
       "9282834     99\n",
       "3715289     97\n",
       "          ... \n",
       "4881         1\n",
       "23977        1\n",
       "13732        1\n",
       "24125        1\n",
       "4265         1\n",
       "Name: # of ratings - All, Length: 18673, dtype: int64"
      ]
     },
     "execution_count": 43,
     "metadata": {},
     "output_type": "execute_result"
    }
   ],
   "source": [
    "data['# of ratings - All'].value_counts()"
   ]
  },
  {
   "cell_type": "code",
   "execution_count": 44,
   "metadata": {},
   "outputs": [
    {
     "data": {
      "text/plain": [
       "count    8.500000e+04\n",
       "mean     5.193177e+05\n",
       "std      1.370753e+06\n",
       "min      0.000000e+00\n",
       "25%      8.834000e+03\n",
       "50%      5.079500e+04\n",
       "75%      3.110120e+05\n",
       "max      1.283882e+07\n",
       "Name: # of ratings - All, dtype: float64"
      ]
     },
     "execution_count": 44,
     "metadata": {},
     "output_type": "execute_result"
    }
   ],
   "source": [
    "data['# of ratings - All'].describe()"
   ]
  },
  {
   "cell_type": "code",
   "execution_count": 45,
   "metadata": {},
   "outputs": [
    {
     "name": "stdout",
     "output_type": "stream",
     "text": [
      "12838815\n",
      "0\n",
      "519317.69537647057\n"
     ]
    }
   ],
   "source": [
    "print(data['# of ratings - All'].max())\n",
    "print(data['# of ratings - All'].min())\n",
    "print(data['# of ratings - All'].mean())"
   ]
  },
  {
   "cell_type": "code",
   "execution_count": 46,
   "metadata": {},
   "outputs": [
    {
     "data": {
      "text/plain": [
       "4    70834\n",
       "3    13568\n",
       "2      540\n",
       "1       58\n",
       "Name: Avg. rating - All, dtype: int64"
      ]
     },
     "execution_count": 46,
     "metadata": {},
     "output_type": "execute_result"
    }
   ],
   "source": [
    "data['# of ratings - All']=np.where(data['# of ratings - All']>=311012, 4, np.where(data['# of ratings - All']>=50795, 3, np.where(data['# of ratings - All']>=8834, 2, 1)))\n",
    "data['Avg. rating - All'].value_counts()"
   ]
  },
  {
   "cell_type": "markdown",
   "metadata": {},
   "source": [
    "## Type 별 데이터 분리\n",
    "\n",
    "Free - 무료 다운로드수\n",
    "\n",
    "Paid - 유료 다운로드수\n",
    "\n",
    "Grossing - 매출"
   ]
  },
  {
   "cell_type": "code",
   "execution_count": 47,
   "metadata": {
    "scrolled": false
   },
   "outputs": [
    {
     "data": {
      "text/plain": [
       "Free        28600\n",
       "Paid        28200\n",
       "Grossing    28200\n",
       "Name: Type, dtype: int64"
      ]
     },
     "execution_count": 47,
     "metadata": {},
     "output_type": "execute_result"
    }
   ],
   "source": [
    "data.Type.value_counts()"
   ]
  },
  {
   "cell_type": "markdown",
   "metadata": {},
   "source": [
    "## Type1 - Free"
   ]
  },
  {
   "cell_type": "code",
   "execution_count": 48,
   "metadata": {
    "scrolled": false
   },
   "outputs": [
    {
     "data": {
      "text/html": [
       "<div>\n",
       "<style scoped>\n",
       "    .dataframe tbody tr th:only-of-type {\n",
       "        vertical-align: middle;\n",
       "    }\n",
       "\n",
       "    .dataframe tbody tr th {\n",
       "        vertical-align: top;\n",
       "    }\n",
       "\n",
       "    .dataframe thead th {\n",
       "        text-align: right;\n",
       "    }\n",
       "</style>\n",
       "<table border=\"1\" class=\"dataframe\">\n",
       "  <thead>\n",
       "    <tr style=\"text-align: right;\">\n",
       "      <th></th>\n",
       "      <th>Rank</th>\n",
       "      <th>Type</th>\n",
       "      <th>Value</th>\n",
       "      <th>Unit</th>\n",
       "      <th>App IAP</th>\n",
       "      <th>App Category</th>\n",
       "      <th>App Start Price</th>\n",
       "      <th>App End Price</th>\n",
       "      <th>App Avg. Price</th>\n",
       "      <th>Avg. rating - All</th>\n",
       "      <th># of ratings - All</th>\n",
       "      <th>Period Month</th>\n",
       "      <th>App Release Year</th>\n",
       "      <th>App Release Month</th>\n",
       "      <th>App Release Day</th>\n",
       "    </tr>\n",
       "  </thead>\n",
       "  <tbody>\n",
       "    <tr>\n",
       "      <th>0</th>\n",
       "      <td>1</td>\n",
       "      <td>Free</td>\n",
       "      <td>142322</td>\n",
       "      <td>Downloads</td>\n",
       "      <td>True</td>\n",
       "      <td>0</td>\n",
       "      <td>0.0</td>\n",
       "      <td>0.0</td>\n",
       "      <td>0.0</td>\n",
       "      <td>4</td>\n",
       "      <td>4</td>\n",
       "      <td>12</td>\n",
       "      <td>2014</td>\n",
       "      <td>6</td>\n",
       "      <td>10</td>\n",
       "    </tr>\n",
       "    <tr>\n",
       "      <th>1</th>\n",
       "      <td>2</td>\n",
       "      <td>Free</td>\n",
       "      <td>66453</td>\n",
       "      <td>Downloads</td>\n",
       "      <td>True</td>\n",
       "      <td>0</td>\n",
       "      <td>0.0</td>\n",
       "      <td>0.0</td>\n",
       "      <td>0.0</td>\n",
       "      <td>4</td>\n",
       "      <td>4</td>\n",
       "      <td>12</td>\n",
       "      <td>2012</td>\n",
       "      <td>11</td>\n",
       "      <td>16</td>\n",
       "    </tr>\n",
       "    <tr>\n",
       "      <th>2</th>\n",
       "      <td>3</td>\n",
       "      <td>Free</td>\n",
       "      <td>61576</td>\n",
       "      <td>Downloads</td>\n",
       "      <td>True</td>\n",
       "      <td>0</td>\n",
       "      <td>0.0</td>\n",
       "      <td>0.0</td>\n",
       "      <td>0.0</td>\n",
       "      <td>4</td>\n",
       "      <td>3</td>\n",
       "      <td>12</td>\n",
       "      <td>2014</td>\n",
       "      <td>12</td>\n",
       "      <td>8</td>\n",
       "    </tr>\n",
       "    <tr>\n",
       "      <th>3</th>\n",
       "      <td>4</td>\n",
       "      <td>Free</td>\n",
       "      <td>60031</td>\n",
       "      <td>Downloads</td>\n",
       "      <td>True</td>\n",
       "      <td>1</td>\n",
       "      <td>0.0</td>\n",
       "      <td>0.0</td>\n",
       "      <td>0.0</td>\n",
       "      <td>4</td>\n",
       "      <td>3</td>\n",
       "      <td>12</td>\n",
       "      <td>2014</td>\n",
       "      <td>11</td>\n",
       "      <td>5</td>\n",
       "    </tr>\n",
       "    <tr>\n",
       "      <th>4</th>\n",
       "      <td>5</td>\n",
       "      <td>Free</td>\n",
       "      <td>59157</td>\n",
       "      <td>Downloads</td>\n",
       "      <td>True</td>\n",
       "      <td>1</td>\n",
       "      <td>0.0</td>\n",
       "      <td>0.0</td>\n",
       "      <td>0.0</td>\n",
       "      <td>4</td>\n",
       "      <td>4</td>\n",
       "      <td>12</td>\n",
       "      <td>2012</td>\n",
       "      <td>9</td>\n",
       "      <td>20</td>\n",
       "    </tr>\n",
       "  </tbody>\n",
       "</table>\n",
       "</div>"
      ],
      "text/plain": [
       "   Rank  Type   Value       Unit  App IAP  App Category  App Start Price  \\\n",
       "0     1  Free  142322  Downloads     True             0              0.0   \n",
       "1     2  Free   66453  Downloads     True             0              0.0   \n",
       "2     3  Free   61576  Downloads     True             0              0.0   \n",
       "3     4  Free   60031  Downloads     True             1              0.0   \n",
       "4     5  Free   59157  Downloads     True             1              0.0   \n",
       "\n",
       "   App End Price  App Avg. Price  Avg. rating - All  # of ratings - All  \\\n",
       "0            0.0             0.0                  4                   4   \n",
       "1            0.0             0.0                  4                   4   \n",
       "2            0.0             0.0                  4                   3   \n",
       "3            0.0             0.0                  4                   3   \n",
       "4            0.0             0.0                  4                   4   \n",
       "\n",
       "   Period Month  App Release Year  App Release Month  App Release Day  \n",
       "0            12              2014                  6               10  \n",
       "1            12              2012                 11               16  \n",
       "2            12              2014                 12                8  \n",
       "3            12              2014                 11                5  \n",
       "4            12              2012                  9               20  "
      ]
     },
     "execution_count": 48,
     "metadata": {},
     "output_type": "execute_result"
    }
   ],
   "source": [
    "data_Free=data[data['Type']=='Free']\n",
    "data_Free.head()"
   ]
  },
  {
   "cell_type": "code",
   "execution_count": 49,
   "metadata": {
    "scrolled": true
   },
   "outputs": [
    {
     "data": {
      "text/plain": [
       "Downloads    28600\n",
       "Name: Unit, dtype: int64"
      ]
     },
     "execution_count": 49,
     "metadata": {},
     "output_type": "execute_result"
    }
   ],
   "source": [
    "data_Free['Unit'].value_counts()"
   ]
  },
  {
   "cell_type": "code",
   "execution_count": 50,
   "metadata": {},
   "outputs": [],
   "source": [
    "tf_dict={True:1, False:0}"
   ]
  },
  {
   "cell_type": "code",
   "execution_count": 56,
   "metadata": {
    "scrolled": true
   },
   "outputs": [
    {
     "data": {
      "text/plain": [
       "count    2.860000e+04\n",
       "mean     2.283187e+05\n",
       "std      6.501835e+05\n",
       "min      2.510000e+02\n",
       "25%      1.774475e+04\n",
       "50%      7.920350e+04\n",
       "75%      2.019948e+05\n",
       "max      2.264264e+07\n",
       "Name: Value, dtype: float64"
      ]
     },
     "execution_count": 56,
     "metadata": {},
     "output_type": "execute_result"
    }
   ],
   "source": [
    "data_Free['Value'].describe()"
   ]
  },
  {
   "cell_type": "code",
   "execution_count": 57,
   "metadata": {
    "scrolled": true
   },
   "outputs": [
    {
     "name": "stderr",
     "output_type": "stream",
     "text": [
      "C:\\Users\\msi\\Anaconda3\\lib\\site-packages\\ipykernel_launcher.py:1: SettingWithCopyWarning: \n",
      "A value is trying to be set on a copy of a slice from a DataFrame.\n",
      "Try using .loc[row_indexer,col_indexer] = value instead\n",
      "\n",
      "See the caveats in the documentation: http://pandas.pydata.org/pandas-docs/stable/user_guide/indexing.html#returning-a-view-versus-a-copy\n",
      "  \"\"\"Entry point for launching an IPython kernel.\n"
     ]
    },
    {
     "data": {
      "text/plain": [
       "4    7150\n",
       "3    7150\n",
       "2    7150\n",
       "1    7150\n",
       "Name: Value, dtype: int64"
      ]
     },
     "execution_count": 57,
     "metadata": {},
     "output_type": "execute_result"
    }
   ],
   "source": [
    "data_Free['Value']=np.where(data_Free['Value']>=201994.8, 4, np.where(data_Free['Value']>=79203.5, 3, np.where(data_Free['Value']>=17744.75, 2, 1)))\n",
    "data_Free['Value'].value_counts()"
   ]
  },
  {
   "cell_type": "code",
   "execution_count": 51,
   "metadata": {
    "scrolled": false
   },
   "outputs": [
    {
     "data": {
      "text/plain": [
       "True     20965\n",
       "False     7635\n",
       "Name: App IAP, dtype: int64"
      ]
     },
     "execution_count": 51,
     "metadata": {},
     "output_type": "execute_result"
    }
   ],
   "source": [
    "data_Free['App IAP'].value_counts()"
   ]
  },
  {
   "cell_type": "code",
   "execution_count": 52,
   "metadata": {},
   "outputs": [
    {
     "name": "stderr",
     "output_type": "stream",
     "text": [
      "C:\\Users\\msi\\Anaconda3\\lib\\site-packages\\ipykernel_launcher.py:1: SettingWithCopyWarning: \n",
      "A value is trying to be set on a copy of a slice from a DataFrame.\n",
      "Try using .loc[row_indexer,col_indexer] = value instead\n",
      "\n",
      "See the caveats in the documentation: http://pandas.pydata.org/pandas-docs/stable/user_guide/indexing.html#returning-a-view-versus-a-copy\n",
      "  \"\"\"Entry point for launching an IPython kernel.\n"
     ]
    }
   ],
   "source": [
    "data_Free['App IAP']=data_Free['App IAP'].map(tf_dict)"
   ]
  },
  {
   "cell_type": "code",
   "execution_count": 53,
   "metadata": {},
   "outputs": [
    {
     "data": {
      "text/plain": [
       "0.00    28592\n",
       "0.99        4\n",
       "4.99        3\n",
       "1.10        1\n",
       "Name: App Start Price, dtype: int64"
      ]
     },
     "execution_count": 53,
     "metadata": {},
     "output_type": "execute_result"
    }
   ],
   "source": [
    "data_Free['App Start Price'].value_counts()"
   ]
  },
  {
   "cell_type": "code",
   "execution_count": 54,
   "metadata": {},
   "outputs": [
    {
     "data": {
      "text/plain": [
       "0.0    28600\n",
       "Name: App End Price, dtype: int64"
      ]
     },
     "execution_count": 54,
     "metadata": {},
     "output_type": "execute_result"
    }
   ],
   "source": [
    "data_Free['App End Price'].value_counts()"
   ]
  },
  {
   "cell_type": "code",
   "execution_count": 55,
   "metadata": {
    "scrolled": false
   },
   "outputs": [
    {
     "data": {
      "text/plain": [
       "0.00    28592\n",
       "0.51        3\n",
       "0.50        3\n",
       "0.04        1\n",
       "0.13        1\n",
       "Name: App Avg. Price, dtype: int64"
      ]
     },
     "execution_count": 55,
     "metadata": {},
     "output_type": "execute_result"
    }
   ],
   "source": [
    "data_Free['App Avg. Price'].value_counts()"
   ]
  },
  {
   "cell_type": "code",
   "execution_count": 58,
   "metadata": {
    "scrolled": true
   },
   "outputs": [
    {
     "data": {
      "text/html": [
       "<div>\n",
       "<style scoped>\n",
       "    .dataframe tbody tr th:only-of-type {\n",
       "        vertical-align: middle;\n",
       "    }\n",
       "\n",
       "    .dataframe tbody tr th {\n",
       "        vertical-align: top;\n",
       "    }\n",
       "\n",
       "    .dataframe thead th {\n",
       "        text-align: right;\n",
       "    }\n",
       "</style>\n",
       "<table border=\"1\" class=\"dataframe\">\n",
       "  <thead>\n",
       "    <tr style=\"text-align: right;\">\n",
       "      <th></th>\n",
       "      <th>Rank</th>\n",
       "      <th>Value</th>\n",
       "      <th>App IAP</th>\n",
       "      <th>App Category</th>\n",
       "      <th>Avg. rating - All</th>\n",
       "      <th># of ratings - All</th>\n",
       "      <th>Period Month</th>\n",
       "      <th>App Release Year</th>\n",
       "      <th>App Release Month</th>\n",
       "      <th>App Release Day</th>\n",
       "    </tr>\n",
       "  </thead>\n",
       "  <tbody>\n",
       "    <tr>\n",
       "      <th>0</th>\n",
       "      <td>1</td>\n",
       "      <td>3</td>\n",
       "      <td>1</td>\n",
       "      <td>0</td>\n",
       "      <td>4</td>\n",
       "      <td>4</td>\n",
       "      <td>12</td>\n",
       "      <td>2014</td>\n",
       "      <td>6</td>\n",
       "      <td>10</td>\n",
       "    </tr>\n",
       "    <tr>\n",
       "      <th>1</th>\n",
       "      <td>2</td>\n",
       "      <td>2</td>\n",
       "      <td>1</td>\n",
       "      <td>0</td>\n",
       "      <td>4</td>\n",
       "      <td>4</td>\n",
       "      <td>12</td>\n",
       "      <td>2012</td>\n",
       "      <td>11</td>\n",
       "      <td>16</td>\n",
       "    </tr>\n",
       "    <tr>\n",
       "      <th>2</th>\n",
       "      <td>3</td>\n",
       "      <td>2</td>\n",
       "      <td>1</td>\n",
       "      <td>0</td>\n",
       "      <td>4</td>\n",
       "      <td>3</td>\n",
       "      <td>12</td>\n",
       "      <td>2014</td>\n",
       "      <td>12</td>\n",
       "      <td>8</td>\n",
       "    </tr>\n",
       "    <tr>\n",
       "      <th>3</th>\n",
       "      <td>4</td>\n",
       "      <td>2</td>\n",
       "      <td>1</td>\n",
       "      <td>1</td>\n",
       "      <td>4</td>\n",
       "      <td>3</td>\n",
       "      <td>12</td>\n",
       "      <td>2014</td>\n",
       "      <td>11</td>\n",
       "      <td>5</td>\n",
       "    </tr>\n",
       "    <tr>\n",
       "      <th>4</th>\n",
       "      <td>5</td>\n",
       "      <td>2</td>\n",
       "      <td>1</td>\n",
       "      <td>1</td>\n",
       "      <td>4</td>\n",
       "      <td>4</td>\n",
       "      <td>12</td>\n",
       "      <td>2012</td>\n",
       "      <td>9</td>\n",
       "      <td>20</td>\n",
       "    </tr>\n",
       "  </tbody>\n",
       "</table>\n",
       "</div>"
      ],
      "text/plain": [
       "   Rank  Value  App IAP  App Category  Avg. rating - All  # of ratings - All  \\\n",
       "0     1      3        1             0                  4                   4   \n",
       "1     2      2        1             0                  4                   4   \n",
       "2     3      2        1             0                  4                   3   \n",
       "3     4      2        1             1                  4                   3   \n",
       "4     5      2        1             1                  4                   4   \n",
       "\n",
       "   Period Month  App Release Year  App Release Month  App Release Day  \n",
       "0            12              2014                  6               10  \n",
       "1            12              2012                 11               16  \n",
       "2            12              2014                 12                8  \n",
       "3            12              2014                 11                5  \n",
       "4            12              2012                  9               20  "
      ]
     },
     "execution_count": 58,
     "metadata": {},
     "output_type": "execute_result"
    }
   ],
   "source": [
    "data_Free=data_Free.drop(['Type', 'Unit', 'App Start Price', 'App End Price', 'App Avg. Price', 'App Release Year'], axis='columns')\n",
    "data_Free.head()"
   ]
  },
  {
   "cell_type": "code",
   "execution_count": 59,
   "metadata": {},
   "outputs": [],
   "source": [
    "corrdata_Free=data_Free[['Rank','Value','App IAP','App Category','Avg. rating - All','# of ratings - All', 'Period Month', 'App Release Month', 'App Release Day']]\n",
    "corrdata_Free=corrdata_Free.corr()\n",
    "mask_Free=np.array(corrdata_Free)\n",
    "mask_Free[np.tril_indices_from(mask_Free)]=False"
   ]
  },
  {
   "cell_type": "code",
   "execution_count": 60,
   "metadata": {},
   "outputs": [
    {
     "name": "stdout",
     "output_type": "stream",
     "text": [
      "App Release Day   -9.204866e-03\n",
      "Period Month      -1.162669e-17\n",
      "App Category       7.123695e-02\n",
      "Name: Rank, dtype: float64\n",
      "\n",
      "Value                 0.084111\n",
      "App IAP               0.414859\n",
      "# of ratings - All    0.423050\n",
      "Name: Avg. rating - All, dtype: float64\n",
      "\n",
      "App Release Day    0.024655\n",
      "Rank               0.071237\n",
      "Value              0.293708\n",
      "Name: App Category, dtype: float64\n",
      "\n",
      "Value          -0.060177\n",
      "App IAP         0.011005\n",
      "Period Month    0.218272\n",
      "Name: App Release Month, dtype: float64\n",
      "\n",
      "Avg. rating - All     0.032640\n",
      "# of ratings - All    0.045250\n",
      "App IAP               0.047071\n",
      "Name: App Release Day, dtype: float64\n"
     ]
    }
   ],
   "source": [
    "print(corrdata_Free.Rank.sort_values()[-4:-1])\n",
    "print()\n",
    "print(corrdata_Free['Avg. rating - All'].sort_values()[-4:-1])\n",
    "print()\n",
    "print(corrdata_Free['App Category'].sort_values()[-4:-1])\n",
    "print()\n",
    "print(corrdata_Free['App Release Month'].sort_values()[-4:-1])\n",
    "print()\n",
    "print(corrdata_Free['App Release Day'].sort_values()[-4:-1])"
   ]
  },
  {
   "cell_type": "code",
   "execution_count": 61,
   "metadata": {
    "scrolled": false
   },
   "outputs": [
    {
     "data": {
      "text/plain": [
       "<AxesSubplot:>"
      ]
     },
     "execution_count": 61,
     "metadata": {},
     "output_type": "execute_result"
    },
    {
     "data": {
      "image/png": "[encoded data removed]",
      "text/plain": [
       "<Figure size 864x432 with 2 Axes>"
      ]
     },
     "metadata": {
      "needs_background": "light"
     },
     "output_type": "display_data"
    }
   ],
   "source": [
    "fig, ax=plt.subplots()\n",
    "fig.set_size_inches(12,6)\n",
    "sns.heatmap(corrdata_Free, square=True, annot=True, vmax=0.8, mask=mask_Free)"
   ]
  },
  {
   "cell_type": "markdown",
   "metadata": {},
   "source": [
    "### 히트맵 분석\n",
    "\n",
    "Rank의 상관관계가 큰 컬럼 : App Category > Period Month > App Release Day\n",
    "\n",
    "Avg. rating - All의 상관관계가 큰 컬럼 : App IAP > # of ratings - All > Value\n",
    "\n",
    "App Category의 상관관계가 큰 컬럼 : Rank > Avg. rating - All > Value\n",
    "\n",
    "App Release Month의 상관관계가 큰 컬럼 : Period Month > # of ratings - All > App IAP\n",
    "\n",
    "App Release Day의 상관관계가 큰 컬럼 : # of ratings - All > Avg. rating - All > App IAP"
   ]
  },
  {
   "cell_type": "markdown",
   "metadata": {},
   "source": [
    "## Type2 - Grossing"
   ]
  },
  {
   "cell_type": "code",
   "execution_count": 62,
   "metadata": {},
   "outputs": [
    {
     "data": {
      "text/html": [
       "<div>\n",
       "<style scoped>\n",
       "    .dataframe tbody tr th:only-of-type {\n",
       "        vertical-align: middle;\n",
       "    }\n",
       "\n",
       "    .dataframe tbody tr th {\n",
       "        vertical-align: top;\n",
       "    }\n",
       "\n",
       "    .dataframe thead th {\n",
       "        text-align: right;\n",
       "    }\n",
       "</style>\n",
       "<table border=\"1\" class=\"dataframe\">\n",
       "  <thead>\n",
       "    <tr style=\"text-align: right;\">\n",
       "      <th></th>\n",
       "      <th>Rank</th>\n",
       "      <th>Type</th>\n",
       "      <th>Value</th>\n",
       "      <th>Unit</th>\n",
       "      <th>App IAP</th>\n",
       "      <th>App Category</th>\n",
       "      <th>App Start Price</th>\n",
       "      <th>App End Price</th>\n",
       "      <th>App Avg. Price</th>\n",
       "      <th>Avg. rating - All</th>\n",
       "      <th># of ratings - All</th>\n",
       "      <th>Period Month</th>\n",
       "      <th>App Release Year</th>\n",
       "      <th>App Release Month</th>\n",
       "      <th>App Release Day</th>\n",
       "    </tr>\n",
       "  </thead>\n",
       "  <tbody>\n",
       "    <tr>\n",
       "      <th>200</th>\n",
       "      <td>1</td>\n",
       "      <td>Grossing</td>\n",
       "      <td>693293</td>\n",
       "      <td>USD</td>\n",
       "      <td>True</td>\n",
       "      <td>2</td>\n",
       "      <td>0.0</td>\n",
       "      <td>0.0</td>\n",
       "      <td>0.0</td>\n",
       "      <td>4</td>\n",
       "      <td>4</td>\n",
       "      <td>12</td>\n",
       "      <td>2013</td>\n",
       "      <td>9</td>\n",
       "      <td>30</td>\n",
       "    </tr>\n",
       "    <tr>\n",
       "      <th>201</th>\n",
       "      <td>2</td>\n",
       "      <td>Grossing</td>\n",
       "      <td>366008</td>\n",
       "      <td>USD</td>\n",
       "      <td>True</td>\n",
       "      <td>2</td>\n",
       "      <td>0.0</td>\n",
       "      <td>0.0</td>\n",
       "      <td>0.0</td>\n",
       "      <td>4</td>\n",
       "      <td>4</td>\n",
       "      <td>12</td>\n",
       "      <td>2014</td>\n",
       "      <td>3</td>\n",
       "      <td>12</td>\n",
       "    </tr>\n",
       "    <tr>\n",
       "      <th>202</th>\n",
       "      <td>3</td>\n",
       "      <td>Grossing</td>\n",
       "      <td>271680</td>\n",
       "      <td>USD</td>\n",
       "      <td>True</td>\n",
       "      <td>12</td>\n",
       "      <td>0.0</td>\n",
       "      <td>0.0</td>\n",
       "      <td>0.0</td>\n",
       "      <td>4</td>\n",
       "      <td>4</td>\n",
       "      <td>12</td>\n",
       "      <td>2012</td>\n",
       "      <td>1</td>\n",
       "      <td>26</td>\n",
       "    </tr>\n",
       "    <tr>\n",
       "      <th>203</th>\n",
       "      <td>4</td>\n",
       "      <td>Grossing</td>\n",
       "      <td>260956</td>\n",
       "      <td>USD</td>\n",
       "      <td>True</td>\n",
       "      <td>0</td>\n",
       "      <td>0.0</td>\n",
       "      <td>0.0</td>\n",
       "      <td>0.0</td>\n",
       "      <td>4</td>\n",
       "      <td>4</td>\n",
       "      <td>12</td>\n",
       "      <td>2014</td>\n",
       "      <td>6</td>\n",
       "      <td>10</td>\n",
       "    </tr>\n",
       "    <tr>\n",
       "      <th>204</th>\n",
       "      <td>5</td>\n",
       "      <td>Grossing</td>\n",
       "      <td>215080</td>\n",
       "      <td>USD</td>\n",
       "      <td>True</td>\n",
       "      <td>0</td>\n",
       "      <td>0.0</td>\n",
       "      <td>0.0</td>\n",
       "      <td>0.0</td>\n",
       "      <td>4</td>\n",
       "      <td>4</td>\n",
       "      <td>12</td>\n",
       "      <td>2012</td>\n",
       "      <td>11</td>\n",
       "      <td>16</td>\n",
       "    </tr>\n",
       "  </tbody>\n",
       "</table>\n",
       "</div>"
      ],
      "text/plain": [
       "     Rank      Type   Value Unit  App IAP  App Category  App Start Price  \\\n",
       "200     1  Grossing  693293  USD     True             2              0.0   \n",
       "201     2  Grossing  366008  USD     True             2              0.0   \n",
       "202     3  Grossing  271680  USD     True            12              0.0   \n",
       "203     4  Grossing  260956  USD     True             0              0.0   \n",
       "204     5  Grossing  215080  USD     True             0              0.0   \n",
       "\n",
       "     App End Price  App Avg. Price  Avg. rating - All  # of ratings - All  \\\n",
       "200            0.0             0.0                  4                   4   \n",
       "201            0.0             0.0                  4                   4   \n",
       "202            0.0             0.0                  4                   4   \n",
       "203            0.0             0.0                  4                   4   \n",
       "204            0.0             0.0                  4                   4   \n",
       "\n",
       "     Period Month  App Release Year  App Release Month  App Release Day  \n",
       "200            12              2013                  9               30  \n",
       "201            12              2014                  3               12  \n",
       "202            12              2012                  1               26  \n",
       "203            12              2014                  6               10  \n",
       "204            12              2012                 11               16  "
      ]
     },
     "execution_count": 62,
     "metadata": {},
     "output_type": "execute_result"
    }
   ],
   "source": [
    "data_Grossing=data[data['Type']=='Grossing']\n",
    "data_Grossing.head()"
   ]
  },
  {
   "cell_type": "code",
   "execution_count": 63,
   "metadata": {
    "scrolled": true
   },
   "outputs": [
    {
     "data": {
      "text/plain": [
       "USD    28200\n",
       "Name: Unit, dtype: int64"
      ]
     },
     "execution_count": 63,
     "metadata": {},
     "output_type": "execute_result"
    }
   ],
   "source": [
    "data_Grossing['Unit'].value_counts()"
   ]
  },
  {
   "cell_type": "code",
   "execution_count": 64,
   "metadata": {},
   "outputs": [
    {
     "data": {
      "text/plain": [
       "5549       20\n",
       "7845       14\n",
       "933        11\n",
       "1825       11\n",
       "1356       11\n",
       "           ..\n",
       "2203        1\n",
       "32922       1\n",
       "512825      1\n",
       "24726       1\n",
       "8880128     1\n",
       "Name: Value, Length: 20510, dtype: int64"
      ]
     },
     "execution_count": 64,
     "metadata": {},
     "output_type": "execute_result"
    }
   ],
   "source": [
    "data_Grossing['Value'].value_counts()"
   ]
  },
  {
   "cell_type": "code",
   "execution_count": 70,
   "metadata": {
    "scrolled": false
   },
   "outputs": [
    {
     "data": {
      "text/plain": [
       "count    2.820000e+04\n",
       "mean     3.019681e+05\n",
       "std      1.768786e+06\n",
       "min      3.680000e+02\n",
       "25%      2.855000e+03\n",
       "50%      1.270850e+04\n",
       "75%      1.218610e+05\n",
       "max      5.109463e+07\n",
       "Name: Value, dtype: float64"
      ]
     },
     "execution_count": 70,
     "metadata": {},
     "output_type": "execute_result"
    }
   ],
   "source": [
    "data_Grossing['Value'].describe()"
   ]
  },
  {
   "cell_type": "code",
   "execution_count": 71,
   "metadata": {
    "scrolled": true
   },
   "outputs": [
    {
     "name": "stderr",
     "output_type": "stream",
     "text": [
      "C:\\Users\\msi\\Anaconda3\\lib\\site-packages\\ipykernel_launcher.py:1: SettingWithCopyWarning: \n",
      "A value is trying to be set on a copy of a slice from a DataFrame.\n",
      "Try using .loc[row_indexer,col_indexer] = value instead\n",
      "\n",
      "See the caveats in the documentation: http://pandas.pydata.org/pandas-docs/stable/user_guide/indexing.html#returning-a-view-versus-a-copy\n",
      "  \"\"\"Entry point for launching an IPython kernel.\n"
     ]
    },
    {
     "data": {
      "text/plain": [
       "2    7052\n",
       "4    7050\n",
       "3    7050\n",
       "1    7048\n",
       "Name: Value, dtype: int64"
      ]
     },
     "execution_count": 71,
     "metadata": {},
     "output_type": "execute_result"
    }
   ],
   "source": [
    "data_Grossing['Value']=np.where(data_Grossing['Value']>=121861, 4, np.where(data_Grossing['Value']>=12708.5, 3, np.where(data_Grossing['Value']>=2855, 2, 1)))\n",
    "data_Grossing['Value'].value_counts()"
   ]
  },
  {
   "cell_type": "code",
   "execution_count": 65,
   "metadata": {},
   "outputs": [
    {
     "data": {
      "text/plain": [
       "True     27750\n",
       "False      450\n",
       "Name: App IAP, dtype: int64"
      ]
     },
     "execution_count": 65,
     "metadata": {},
     "output_type": "execute_result"
    }
   ],
   "source": [
    "data_Grossing['App IAP'].value_counts()"
   ]
  },
  {
   "cell_type": "code",
   "execution_count": 66,
   "metadata": {},
   "outputs": [
    {
     "name": "stderr",
     "output_type": "stream",
     "text": [
      "C:\\Users\\msi\\Anaconda3\\lib\\site-packages\\ipykernel_launcher.py:1: SettingWithCopyWarning: \n",
      "A value is trying to be set on a copy of a slice from a DataFrame.\n",
      "Try using .loc[row_indexer,col_indexer] = value instead\n",
      "\n",
      "See the caveats in the documentation: http://pandas.pydata.org/pandas-docs/stable/user_guide/indexing.html#returning-a-view-versus-a-copy\n",
      "  \"\"\"Entry point for launching an IPython kernel.\n"
     ]
    }
   ],
   "source": [
    "data_Grossing['App IAP']=data_Grossing['App IAP'].map(tf_dict)"
   ]
  },
  {
   "cell_type": "code",
   "execution_count": 67,
   "metadata": {},
   "outputs": [
    {
     "data": {
      "text/plain": [
       "0.00     27315\n",
       "6.99       293\n",
       "2.99       126\n",
       "0.99        90\n",
       "3.99        51\n",
       "         ...  \n",
       "5.84         1\n",
       "19.51        1\n",
       "7.10         1\n",
       "3.06         1\n",
       "2.49         1\n",
       "Name: App Start Price, Length: 95, dtype: int64"
      ]
     },
     "execution_count": 67,
     "metadata": {},
     "output_type": "execute_result"
    }
   ],
   "source": [
    "data_Grossing['App Start Price'].value_counts()"
   ]
  },
  {
   "cell_type": "code",
   "execution_count": 68,
   "metadata": {},
   "outputs": [
    {
     "data": {
      "text/plain": [
       "0.00     27324\n",
       "6.99       299\n",
       "2.99       121\n",
       "0.99        71\n",
       "3.99        61\n",
       "         ...  \n",
       "3.06         1\n",
       "9.14         1\n",
       "4.80         1\n",
       "14.95        1\n",
       "2.49         1\n",
       "Name: App End Price, Length: 98, dtype: int64"
      ]
     },
     "execution_count": 68,
     "metadata": {},
     "output_type": "execute_result"
    }
   ],
   "source": [
    "data_Grossing['App End Price'].value_counts()"
   ]
  },
  {
   "cell_type": "code",
   "execution_count": 69,
   "metadata": {
    "scrolled": true
   },
   "outputs": [
    {
     "data": {
      "text/plain": [
       "0.00     27315\n",
       "6.99       193\n",
       "2.99        66\n",
       "0.99        49\n",
       "6.86        41\n",
       "         ...  \n",
       "4.51         1\n",
       "15.11        1\n",
       "13.57        1\n",
       "16.02        1\n",
       "4.21         1\n",
       "Name: App Avg. Price, Length: 213, dtype: int64"
      ]
     },
     "execution_count": 69,
     "metadata": {},
     "output_type": "execute_result"
    }
   ],
   "source": [
    "data_Grossing['App Avg. Price'].value_counts()"
   ]
  },
  {
   "cell_type": "code",
   "execution_count": 72,
   "metadata": {
    "scrolled": true
   },
   "outputs": [
    {
     "data": {
      "text/html": [
       "<div>\n",
       "<style scoped>\n",
       "    .dataframe tbody tr th:only-of-type {\n",
       "        vertical-align: middle;\n",
       "    }\n",
       "\n",
       "    .dataframe tbody tr th {\n",
       "        vertical-align: top;\n",
       "    }\n",
       "\n",
       "    .dataframe thead th {\n",
       "        text-align: right;\n",
       "    }\n",
       "</style>\n",
       "<table border=\"1\" class=\"dataframe\">\n",
       "  <thead>\n",
       "    <tr style=\"text-align: right;\">\n",
       "      <th></th>\n",
       "      <th>Rank</th>\n",
       "      <th>Value</th>\n",
       "      <th>App IAP</th>\n",
       "      <th>App Category</th>\n",
       "      <th>App Avg. Price</th>\n",
       "      <th>Avg. rating - All</th>\n",
       "      <th># of ratings - All</th>\n",
       "      <th>Period Month</th>\n",
       "      <th>App Release Year</th>\n",
       "      <th>App Release Month</th>\n",
       "      <th>App Release Day</th>\n",
       "    </tr>\n",
       "  </thead>\n",
       "  <tbody>\n",
       "    <tr>\n",
       "      <th>200</th>\n",
       "      <td>1</td>\n",
       "      <td>4</td>\n",
       "      <td>1</td>\n",
       "      <td>2</td>\n",
       "      <td>0.0</td>\n",
       "      <td>4</td>\n",
       "      <td>4</td>\n",
       "      <td>12</td>\n",
       "      <td>2013</td>\n",
       "      <td>9</td>\n",
       "      <td>30</td>\n",
       "    </tr>\n",
       "    <tr>\n",
       "      <th>201</th>\n",
       "      <td>2</td>\n",
       "      <td>4</td>\n",
       "      <td>1</td>\n",
       "      <td>2</td>\n",
       "      <td>0.0</td>\n",
       "      <td>4</td>\n",
       "      <td>4</td>\n",
       "      <td>12</td>\n",
       "      <td>2014</td>\n",
       "      <td>3</td>\n",
       "      <td>12</td>\n",
       "    </tr>\n",
       "    <tr>\n",
       "      <th>202</th>\n",
       "      <td>3</td>\n",
       "      <td>4</td>\n",
       "      <td>1</td>\n",
       "      <td>12</td>\n",
       "      <td>0.0</td>\n",
       "      <td>4</td>\n",
       "      <td>4</td>\n",
       "      <td>12</td>\n",
       "      <td>2012</td>\n",
       "      <td>1</td>\n",
       "      <td>26</td>\n",
       "    </tr>\n",
       "    <tr>\n",
       "      <th>203</th>\n",
       "      <td>4</td>\n",
       "      <td>4</td>\n",
       "      <td>1</td>\n",
       "      <td>0</td>\n",
       "      <td>0.0</td>\n",
       "      <td>4</td>\n",
       "      <td>4</td>\n",
       "      <td>12</td>\n",
       "      <td>2014</td>\n",
       "      <td>6</td>\n",
       "      <td>10</td>\n",
       "    </tr>\n",
       "    <tr>\n",
       "      <th>204</th>\n",
       "      <td>5</td>\n",
       "      <td>4</td>\n",
       "      <td>1</td>\n",
       "      <td>0</td>\n",
       "      <td>0.0</td>\n",
       "      <td>4</td>\n",
       "      <td>4</td>\n",
       "      <td>12</td>\n",
       "      <td>2012</td>\n",
       "      <td>11</td>\n",
       "      <td>16</td>\n",
       "    </tr>\n",
       "  </tbody>\n",
       "</table>\n",
       "</div>"
      ],
      "text/plain": [
       "     Rank  Value  App IAP  App Category  App Avg. Price  Avg. rating - All  \\\n",
       "200     1      4        1             2             0.0                  4   \n",
       "201     2      4        1             2             0.0                  4   \n",
       "202     3      4        1            12             0.0                  4   \n",
       "203     4      4        1             0             0.0                  4   \n",
       "204     5      4        1             0             0.0                  4   \n",
       "\n",
       "     # of ratings - All  Period Month  App Release Year  App Release Month  \\\n",
       "200                   4            12              2013                  9   \n",
       "201                   4            12              2014                  3   \n",
       "202                   4            12              2012                  1   \n",
       "203                   4            12              2014                  6   \n",
       "204                   4            12              2012                 11   \n",
       "\n",
       "     App Release Day  \n",
       "200               30  \n",
       "201               12  \n",
       "202               26  \n",
       "203               10  \n",
       "204               16  "
      ]
     },
     "execution_count": 72,
     "metadata": {},
     "output_type": "execute_result"
    }
   ],
   "source": [
    "data_Grossing=data_Grossing.drop(['Type', 'Unit', 'App Start Price', 'App End Price'], axis='columns')\n",
    "data_Grossing.head()"
   ]
  },
  {
   "cell_type": "code",
   "execution_count": 73,
   "metadata": {},
   "outputs": [],
   "source": [
    "corrdata_Grossing=data_Grossing[['Rank','Value','App IAP','App Category','App Avg. Price','Avg. rating - All','# of ratings - All', 'Period Month', 'App Release Year', 'App Release Month', 'App Release Day']]\n",
    "corrdata_Grossing=corrdata_Grossing.corr()\n",
    "mask_Grossing=np.array(corrdata_Grossing)\n",
    "mask_Grossing[np.tril_indices_from(mask_Grossing)]=False"
   ]
  },
  {
   "cell_type": "code",
   "execution_count": 74,
   "metadata": {},
   "outputs": [
    {
     "name": "stdout",
     "output_type": "stream",
     "text": [
      "App Release Month    0.024663\n",
      "App Category         0.052778\n",
      "App Avg. Price       0.055875\n",
      "Name: Rank, dtype: float64\n",
      "\n",
      "App IAP              -0.004160\n",
      "Period Month          0.086392\n",
      "# of ratings - All    0.310605\n",
      "Name: Avg. rating - All, dtype: float64\n",
      "\n",
      "App IAP    0.023854\n",
      "Rank       0.052778\n",
      "Value      0.212906\n",
      "Name: App Category, dtype: float64\n",
      "\n",
      "Period Month      0.022188\n",
      "Rank              0.024663\n",
      "App Avg. Price    0.113056\n",
      "Name: App Release Month, dtype: float64\n",
      "\n",
      "App Category   -0.003747\n",
      "Value           0.017234\n",
      "App IAP         0.090772\n",
      "Name: App Release Day, dtype: float64\n"
     ]
    }
   ],
   "source": [
    "print(corrdata_Grossing.Rank.sort_values()[-4:-1])\n",
    "print()\n",
    "print(corrdata_Grossing['Avg. rating - All'].sort_values()[-4:-1])\n",
    "print()\n",
    "print(corrdata_Grossing['App Category'].sort_values()[-4:-1])\n",
    "print()\n",
    "print(corrdata_Grossing['App Release Month'].sort_values()[-4:-1])\n",
    "print()\n",
    "print(corrdata_Grossing['App Release Day'].sort_values()[-4:-1])"
   ]
  },
  {
   "cell_type": "code",
   "execution_count": 75,
   "metadata": {},
   "outputs": [
    {
     "data": {
      "text/plain": [
       "<AxesSubplot:>"
      ]
     },
     "execution_count": 75,
     "metadata": {},
     "output_type": "execute_result"
    },
    {
     "data": {
      "image/png": "[encoded data removed]",
      "text/plain": [
       "<Figure size 864x432 with 2 Axes>"
      ]
     },
     "metadata": {
      "needs_background": "light"
     },
     "output_type": "display_data"
    }
   ],
   "source": [
    "fig, ax=plt.subplots()\n",
    "fig.set_size_inches(12,6)\n",
    "sns.heatmap(corrdata_Grossing, square=True, annot=True, vmax=0.8, mask=mask_Grossing)"
   ]
  },
  {
   "cell_type": "markdown",
   "metadata": {},
   "source": [
    "### 히트맵 분석\n",
    "\n",
    "Rank의 상관관계가 큰 컬럼 : App Avg. Price > App Category > App Release Month\n",
    "\n",
    "Avg. rating - All의 상관관계가 큰 컬럼 : # of ratings - All > App Category > App Release Day\n",
    "\n",
    "App Category의 상관관계가 큰 컬럼 : Rank > Value > App IAP\n",
    "\n",
    "App Release Month의 상관관계가 큰 컬럼 : # of ratings - All > App Avg. Price > Rank\n",
    "\n",
    "App Release Day의 상관관계가 큰 컬럼 : App IAP > # of ratings - All > Value"
   ]
  },
  {
   "cell_type": "markdown",
   "metadata": {},
   "source": [
    "## Type3 - Paid"
   ]
  },
  {
   "cell_type": "code",
   "execution_count": 76,
   "metadata": {},
   "outputs": [
    {
     "data": {
      "text/html": [
       "<div>\n",
       "<style scoped>\n",
       "    .dataframe tbody tr th:only-of-type {\n",
       "        vertical-align: middle;\n",
       "    }\n",
       "\n",
       "    .dataframe tbody tr th {\n",
       "        vertical-align: top;\n",
       "    }\n",
       "\n",
       "    .dataframe thead th {\n",
       "        text-align: right;\n",
       "    }\n",
       "</style>\n",
       "<table border=\"1\" class=\"dataframe\">\n",
       "  <thead>\n",
       "    <tr style=\"text-align: right;\">\n",
       "      <th></th>\n",
       "      <th>Rank</th>\n",
       "      <th>Type</th>\n",
       "      <th>Value</th>\n",
       "      <th>Unit</th>\n",
       "      <th>App IAP</th>\n",
       "      <th>App Category</th>\n",
       "      <th>App Start Price</th>\n",
       "      <th>App End Price</th>\n",
       "      <th>App Avg. Price</th>\n",
       "      <th>Avg. rating - All</th>\n",
       "      <th># of ratings - All</th>\n",
       "      <th>Period Month</th>\n",
       "      <th>App Release Year</th>\n",
       "      <th>App Release Month</th>\n",
       "      <th>App Release Day</th>\n",
       "    </tr>\n",
       "  </thead>\n",
       "  <tbody>\n",
       "    <tr>\n",
       "      <th>100</th>\n",
       "      <td>1</td>\n",
       "      <td>Paid</td>\n",
       "      <td>11842</td>\n",
       "      <td>Downloads</td>\n",
       "      <td>False</td>\n",
       "      <td>1</td>\n",
       "      <td>6.99</td>\n",
       "      <td>6.99</td>\n",
       "      <td>6.99</td>\n",
       "      <td>4</td>\n",
       "      <td>4</td>\n",
       "      <td>12</td>\n",
       "      <td>2011</td>\n",
       "      <td>12</td>\n",
       "      <td>3</td>\n",
       "    </tr>\n",
       "    <tr>\n",
       "      <th>101</th>\n",
       "      <td>2</td>\n",
       "      <td>Paid</td>\n",
       "      <td>5880</td>\n",
       "      <td>Downloads</td>\n",
       "      <td>True</td>\n",
       "      <td>1</td>\n",
       "      <td>1.00</td>\n",
       "      <td>0.99</td>\n",
       "      <td>1.00</td>\n",
       "      <td>4</td>\n",
       "      <td>2</td>\n",
       "      <td>12</td>\n",
       "      <td>2014</td>\n",
       "      <td>5</td>\n",
       "      <td>28</td>\n",
       "    </tr>\n",
       "    <tr>\n",
       "      <th>102</th>\n",
       "      <td>3</td>\n",
       "      <td>Paid</td>\n",
       "      <td>4199</td>\n",
       "      <td>Downloads</td>\n",
       "      <td>False</td>\n",
       "      <td>11</td>\n",
       "      <td>4.99</td>\n",
       "      <td>4.99</td>\n",
       "      <td>4.08</td>\n",
       "      <td>4</td>\n",
       "      <td>2</td>\n",
       "      <td>12</td>\n",
       "      <td>2014</td>\n",
       "      <td>9</td>\n",
       "      <td>17</td>\n",
       "    </tr>\n",
       "    <tr>\n",
       "      <th>103</th>\n",
       "      <td>4</td>\n",
       "      <td>Paid</td>\n",
       "      <td>3946</td>\n",
       "      <td>Downloads</td>\n",
       "      <td>False</td>\n",
       "      <td>2</td>\n",
       "      <td>2.99</td>\n",
       "      <td>2.99</td>\n",
       "      <td>2.86</td>\n",
       "      <td>4</td>\n",
       "      <td>2</td>\n",
       "      <td>12</td>\n",
       "      <td>2014</td>\n",
       "      <td>11</td>\n",
       "      <td>11</td>\n",
       "    </tr>\n",
       "    <tr>\n",
       "      <th>104</th>\n",
       "      <td>5</td>\n",
       "      <td>Paid</td>\n",
       "      <td>3565</td>\n",
       "      <td>Downloads</td>\n",
       "      <td>True</td>\n",
       "      <td>15</td>\n",
       "      <td>4.99</td>\n",
       "      <td>4.99</td>\n",
       "      <td>4.21</td>\n",
       "      <td>4</td>\n",
       "      <td>3</td>\n",
       "      <td>12</td>\n",
       "      <td>2013</td>\n",
       "      <td>9</td>\n",
       "      <td>26</td>\n",
       "    </tr>\n",
       "  </tbody>\n",
       "</table>\n",
       "</div>"
      ],
      "text/plain": [
       "     Rank  Type  Value       Unit  App IAP  App Category  App Start Price  \\\n",
       "100     1  Paid  11842  Downloads    False             1             6.99   \n",
       "101     2  Paid   5880  Downloads     True             1             1.00   \n",
       "102     3  Paid   4199  Downloads    False            11             4.99   \n",
       "103     4  Paid   3946  Downloads    False             2             2.99   \n",
       "104     5  Paid   3565  Downloads     True            15             4.99   \n",
       "\n",
       "     App End Price  App Avg. Price  Avg. rating - All  # of ratings - All  \\\n",
       "100           6.99            6.99                  4                   4   \n",
       "101           0.99            1.00                  4                   2   \n",
       "102           4.99            4.08                  4                   2   \n",
       "103           2.99            2.86                  4                   2   \n",
       "104           4.99            4.21                  4                   3   \n",
       "\n",
       "     Period Month  App Release Year  App Release Month  App Release Day  \n",
       "100            12              2011                 12                3  \n",
       "101            12              2014                  5               28  \n",
       "102            12              2014                  9               17  \n",
       "103            12              2014                 11               11  \n",
       "104            12              2013                  9               26  "
      ]
     },
     "execution_count": 76,
     "metadata": {},
     "output_type": "execute_result"
    }
   ],
   "source": [
    "data_Paid=data[data['Type']=='Paid']\n",
    "data_Paid.head()"
   ]
  },
  {
   "cell_type": "code",
   "execution_count": 77,
   "metadata": {
    "scrolled": true
   },
   "outputs": [
    {
     "data": {
      "text/plain": [
       "Downloads    28200\n",
       "Name: Unit, dtype: int64"
      ]
     },
     "execution_count": 77,
     "metadata": {},
     "output_type": "execute_result"
    }
   ],
   "source": [
    "data_Paid['Unit'].value_counts()"
   ]
  },
  {
   "cell_type": "code",
   "execution_count": 78,
   "metadata": {
    "scrolled": true
   },
   "outputs": [
    {
     "data": {
      "text/plain": [
       "30      689\n",
       "31      597\n",
       "60      271\n",
       "37      259\n",
       "42      252\n",
       "       ... \n",
       "4987      1\n",
       "4955      1\n",
       "6986      1\n",
       "2888      1\n",
       "2049      1\n",
       "Name: Value, Length: 5306, dtype: int64"
      ]
     },
     "execution_count": 78,
     "metadata": {},
     "output_type": "execute_result"
    }
   ],
   "source": [
    "data_Paid['Value'].value_counts()"
   ]
  },
  {
   "cell_type": "code",
   "execution_count": 79,
   "metadata": {
    "scrolled": true
   },
   "outputs": [
    {
     "data": {
      "text/plain": [
       "count     28200.000000\n",
       "mean       1759.726170\n",
       "std        8211.424322\n",
       "min          30.000000\n",
       "25%          62.000000\n",
       "50%         157.000000\n",
       "75%         770.000000\n",
       "max      598572.000000\n",
       "Name: Value, dtype: float64"
      ]
     },
     "execution_count": 79,
     "metadata": {},
     "output_type": "execute_result"
    }
   ],
   "source": [
    "data_Paid['Value'].describe()"
   ]
  },
  {
   "cell_type": "code",
   "execution_count": 80,
   "metadata": {
    "scrolled": true
   },
   "outputs": [
    {
     "name": "stderr",
     "output_type": "stream",
     "text": [
      "C:\\Users\\msi\\Anaconda3\\lib\\site-packages\\ipykernel_launcher.py:1: SettingWithCopyWarning: \n",
      "A value is trying to be set on a copy of a slice from a DataFrame.\n",
      "Try using .loc[row_indexer,col_indexer] = value instead\n",
      "\n",
      "See the caveats in the documentation: http://pandas.pydata.org/pandas-docs/stable/user_guide/indexing.html#returning-a-view-versus-a-copy\n",
      "  \"\"\"Entry point for launching an IPython kernel.\n"
     ]
    },
    {
     "data": {
      "text/plain": [
       "3    7058\n",
       "4    7057\n",
       "1    7045\n",
       "2    7040\n",
       "Name: Value, dtype: int64"
      ]
     },
     "execution_count": 80,
     "metadata": {},
     "output_type": "execute_result"
    }
   ],
   "source": [
    "data_Paid['Value']=np.where(data_Paid['Value']>=770, 4, np.where(data_Paid['Value']>=157, 3, np.where(data_Paid['Value']>=62, 2, 1)))\n",
    "data_Paid['Value'].value_counts()"
   ]
  },
  {
   "cell_type": "code",
   "execution_count": 81,
   "metadata": {},
   "outputs": [
    {
     "data": {
      "text/plain": [
       "False    14230\n",
       "True     13970\n",
       "Name: App IAP, dtype: int64"
      ]
     },
     "execution_count": 81,
     "metadata": {},
     "output_type": "execute_result"
    }
   ],
   "source": [
    "data_Paid['App IAP'].value_counts()"
   ]
  },
  {
   "cell_type": "code",
   "execution_count": 82,
   "metadata": {},
   "outputs": [
    {
     "name": "stderr",
     "output_type": "stream",
     "text": [
      "C:\\Users\\msi\\Anaconda3\\lib\\site-packages\\ipykernel_launcher.py:1: SettingWithCopyWarning: \n",
      "A value is trying to be set on a copy of a slice from a DataFrame.\n",
      "Try using .loc[row_indexer,col_indexer] = value instead\n",
      "\n",
      "See the caveats in the documentation: http://pandas.pydata.org/pandas-docs/stable/user_guide/indexing.html#returning-a-view-versus-a-copy\n",
      "  \"\"\"Entry point for launching an IPython kernel.\n"
     ]
    }
   ],
   "source": [
    "data_Paid['App IAP']=data_Paid['App IAP'].map(tf_dict)"
   ]
  },
  {
   "cell_type": "code",
   "execution_count": 83,
   "metadata": {},
   "outputs": [
    {
     "data": {
      "text/plain": [
       "0.99     6082\n",
       "2.99     3635\n",
       "1.99     3415\n",
       "4.99     3014\n",
       "6.99     1935\n",
       "         ... \n",
       "9.56        1\n",
       "8.87        1\n",
       "4.95        1\n",
       "11.70       1\n",
       "17.54       1\n",
       "Name: App Start Price, Length: 809, dtype: int64"
      ]
     },
     "execution_count": 83,
     "metadata": {},
     "output_type": "execute_result"
    }
   ],
   "source": [
    "data_Paid['App Start Price'].value_counts()"
   ]
  },
  {
   "cell_type": "code",
   "execution_count": 84,
   "metadata": {},
   "outputs": [
    {
     "data": {
      "text/plain": [
       "0.99     5972\n",
       "2.99     3815\n",
       "1.99     3435\n",
       "4.99     2907\n",
       "6.99     2019\n",
       "         ... \n",
       "5.61        1\n",
       "3.67        1\n",
       "9.96        1\n",
       "12.22       1\n",
       "2.68        1\n",
       "Name: App End Price, Length: 759, dtype: int64"
      ]
     },
     "execution_count": 84,
     "metadata": {},
     "output_type": "execute_result"
    }
   ],
   "source": [
    "data_Paid['App End Price'].value_counts()"
   ]
  },
  {
   "cell_type": "code",
   "execution_count": 85,
   "metadata": {},
   "outputs": [
    {
     "data": {
      "text/plain": [
       "0.99     4185\n",
       "1.99     2252\n",
       "2.99     2124\n",
       "4.99     1813\n",
       "6.99     1316\n",
       "         ... \n",
       "36.62       1\n",
       "11.99       1\n",
       "14.29       1\n",
       "15.35       1\n",
       "17.29       1\n",
       "Name: App Avg. Price, Length: 1207, dtype: int64"
      ]
     },
     "execution_count": 85,
     "metadata": {},
     "output_type": "execute_result"
    }
   ],
   "source": [
    "data_Paid['App Avg. Price'].value_counts()"
   ]
  },
  {
   "cell_type": "code",
   "execution_count": 86,
   "metadata": {},
   "outputs": [
    {
     "data": {
      "text/html": [
       "<div>\n",
       "<style scoped>\n",
       "    .dataframe tbody tr th:only-of-type {\n",
       "        vertical-align: middle;\n",
       "    }\n",
       "\n",
       "    .dataframe tbody tr th {\n",
       "        vertical-align: top;\n",
       "    }\n",
       "\n",
       "    .dataframe thead th {\n",
       "        text-align: right;\n",
       "    }\n",
       "</style>\n",
       "<table border=\"1\" class=\"dataframe\">\n",
       "  <thead>\n",
       "    <tr style=\"text-align: right;\">\n",
       "      <th></th>\n",
       "      <th>Rank</th>\n",
       "      <th>Value</th>\n",
       "      <th>App IAP</th>\n",
       "      <th>App Category</th>\n",
       "      <th>App Start Price</th>\n",
       "      <th>App End Price</th>\n",
       "      <th>App Avg. Price</th>\n",
       "      <th>Avg. rating - All</th>\n",
       "      <th># of ratings - All</th>\n",
       "      <th>Period Month</th>\n",
       "      <th>App Release Year</th>\n",
       "      <th>App Release Month</th>\n",
       "      <th>App Release Day</th>\n",
       "    </tr>\n",
       "  </thead>\n",
       "  <tbody>\n",
       "    <tr>\n",
       "      <th>100</th>\n",
       "      <td>1</td>\n",
       "      <td>4</td>\n",
       "      <td>0</td>\n",
       "      <td>1</td>\n",
       "      <td>6.99</td>\n",
       "      <td>6.99</td>\n",
       "      <td>6.99</td>\n",
       "      <td>4</td>\n",
       "      <td>4</td>\n",
       "      <td>12</td>\n",
       "      <td>2011</td>\n",
       "      <td>12</td>\n",
       "      <td>3</td>\n",
       "    </tr>\n",
       "    <tr>\n",
       "      <th>101</th>\n",
       "      <td>2</td>\n",
       "      <td>4</td>\n",
       "      <td>1</td>\n",
       "      <td>1</td>\n",
       "      <td>1.00</td>\n",
       "      <td>0.99</td>\n",
       "      <td>1.00</td>\n",
       "      <td>4</td>\n",
       "      <td>2</td>\n",
       "      <td>12</td>\n",
       "      <td>2014</td>\n",
       "      <td>5</td>\n",
       "      <td>28</td>\n",
       "    </tr>\n",
       "    <tr>\n",
       "      <th>102</th>\n",
       "      <td>3</td>\n",
       "      <td>4</td>\n",
       "      <td>0</td>\n",
       "      <td>11</td>\n",
       "      <td>4.99</td>\n",
       "      <td>4.99</td>\n",
       "      <td>4.08</td>\n",
       "      <td>4</td>\n",
       "      <td>2</td>\n",
       "      <td>12</td>\n",
       "      <td>2014</td>\n",
       "      <td>9</td>\n",
       "      <td>17</td>\n",
       "    </tr>\n",
       "    <tr>\n",
       "      <th>103</th>\n",
       "      <td>4</td>\n",
       "      <td>4</td>\n",
       "      <td>0</td>\n",
       "      <td>2</td>\n",
       "      <td>2.99</td>\n",
       "      <td>2.99</td>\n",
       "      <td>2.86</td>\n",
       "      <td>4</td>\n",
       "      <td>2</td>\n",
       "      <td>12</td>\n",
       "      <td>2014</td>\n",
       "      <td>11</td>\n",
       "      <td>11</td>\n",
       "    </tr>\n",
       "    <tr>\n",
       "      <th>104</th>\n",
       "      <td>5</td>\n",
       "      <td>4</td>\n",
       "      <td>1</td>\n",
       "      <td>15</td>\n",
       "      <td>4.99</td>\n",
       "      <td>4.99</td>\n",
       "      <td>4.21</td>\n",
       "      <td>4</td>\n",
       "      <td>3</td>\n",
       "      <td>12</td>\n",
       "      <td>2013</td>\n",
       "      <td>9</td>\n",
       "      <td>26</td>\n",
       "    </tr>\n",
       "  </tbody>\n",
       "</table>\n",
       "</div>"
      ],
      "text/plain": [
       "     Rank  Value  App IAP  App Category  App Start Price  App End Price  \\\n",
       "100     1      4        0             1             6.99           6.99   \n",
       "101     2      4        1             1             1.00           0.99   \n",
       "102     3      4        0            11             4.99           4.99   \n",
       "103     4      4        0             2             2.99           2.99   \n",
       "104     5      4        1            15             4.99           4.99   \n",
       "\n",
       "     App Avg. Price  Avg. rating - All  # of ratings - All  Period Month  \\\n",
       "100            6.99                  4                   4            12   \n",
       "101            1.00                  4                   2            12   \n",
       "102            4.08                  4                   2            12   \n",
       "103            2.86                  4                   2            12   \n",
       "104            4.21                  4                   3            12   \n",
       "\n",
       "     App Release Year  App Release Month  App Release Day  \n",
       "100              2011                 12                3  \n",
       "101              2014                  5               28  \n",
       "102              2014                  9               17  \n",
       "103              2014                 11               11  \n",
       "104              2013                  9               26  "
      ]
     },
     "execution_count": 86,
     "metadata": {},
     "output_type": "execute_result"
    }
   ],
   "source": [
    "data_Paid=data_Paid.drop(['Type', 'Unit'], axis='columns')\n",
    "data_Paid.head()"
   ]
  },
  {
   "cell_type": "code",
   "execution_count": 87,
   "metadata": {},
   "outputs": [],
   "source": [
    "corrdata_Paid=data_Paid[['Rank','Value','App IAP','App Category', 'App Start Price','App End Price','App Avg. Price','Avg. rating - All','# of ratings - All', 'Period Month', 'App Release Month', 'App Release Day']]\n",
    "corrdata_Paid=corrdata_Paid.corr()\n",
    "mask_Paid=np.array(corrdata_Paid)\n",
    "mask_Paid[np.tril_indices_from(mask_Paid)]=False"
   ]
  },
  {
   "cell_type": "code",
   "execution_count": 88,
   "metadata": {},
   "outputs": [
    {
     "name": "stdout",
     "output_type": "stream",
     "text": [
      "Period Month      -7.950859e-19\n",
      "App Release Day    7.090747e-03\n",
      "App Category       3.451973e-02\n",
      "Name: Rank, dtype: float64\n",
      "\n",
      "App IAP               0.060274\n",
      "Period Month          0.143475\n",
      "# of ratings - All    0.196709\n",
      "Name: Avg. rating - All, dtype: float64\n",
      "\n",
      "App End Price     0.058565\n",
      "App Avg. Price    0.073224\n",
      "Value             0.210615\n",
      "Name: App Category, dtype: float64\n",
      "\n",
      "App End Price     0.046993\n",
      "App Avg. Price    0.051143\n",
      "Period Month      0.078234\n",
      "Name: App Release Month, dtype: float64\n",
      "\n",
      "App End Price         0.010854\n",
      "# of ratings - All    0.011434\n",
      "App IAP               0.073021\n",
      "Name: App Release Day, dtype: float64\n"
     ]
    }
   ],
   "source": [
    "print(corrdata_Paid.Rank.sort_values()[-4:-1])\n",
    "print()\n",
    "print(corrdata_Paid['Avg. rating - All'].sort_values()[-4:-1])\n",
    "print()\n",
    "print(corrdata_Paid['App Category'].sort_values()[-4:-1])\n",
    "print()\n",
    "print(corrdata_Paid['App Release Month'].sort_values()[-4:-1])\n",
    "print()\n",
    "print(corrdata_Paid['App Release Day'].sort_values()[-4:-1])"
   ]
  },
  {
   "cell_type": "code",
   "execution_count": 89,
   "metadata": {},
   "outputs": [
    {
     "data": {
      "text/plain": [
       "<AxesSubplot:>"
      ]
     },
     "execution_count": 89,
     "metadata": {},
     "output_type": "execute_result"
    },
    {
     "data": {
      "image/png": "[encoded data removed]",
      "text/plain": [
       "<Figure size 864x432 with 2 Axes>"
      ]
     },
     "metadata": {
      "needs_background": "light"
     },
     "output_type": "display_data"
    }
   ],
   "source": [
    "fig, ax=plt.subplots()\n",
    "fig.set_size_inches(12,6)\n",
    "sns.heatmap(corrdata_Paid, square=True, annot=True, vmax=0.8, mask=mask_Paid)"
   ]
  },
  {
   "cell_type": "markdown",
   "metadata": {},
   "source": [
    "### 히트맵 분석\n",
    "\n",
    "Rank의 상관관계가 큰 컬럼 : App Category > App Release Day > Period Month\n",
    "\n",
    "Avg. rating - All의 상관관계가 큰 컬럼 : # of ratings - All > Period Month > App IAP\n",
    "\n",
    "App Category의 상관관계가 큰 컬럼 : App Avg. Price > App End Price > Value\n",
    "\n",
    "App Release Month의 상관관계가 큰 컬럼 : # of ratings - All > Period Month > App Avg. Price\n",
    "\n",
    "App Release Day의 상관관계가 큰 컬럼 : App IAP > App End Price > Rank"
   ]
  },
  {
   "cell_type": "markdown",
   "metadata": {},
   "source": [
    "## test 파일 생성"
   ]
  },
  {
   "cell_type": "code",
   "execution_count": 93,
   "metadata": {},
   "outputs": [
    {
     "data": {
      "text/plain": [
       "['Rank',\n",
       " 'Value',\n",
       " 'App IAP',\n",
       " 'App Category',\n",
       " 'Avg. rating - All',\n",
       " '# of ratings - All',\n",
       " 'Period Month',\n",
       " 'App Release Year',\n",
       " 'App Release Month',\n",
       " 'App Release Day']"
      ]
     },
     "execution_count": 93,
     "metadata": {},
     "output_type": "execute_result"
    }
   ],
   "source": [
    "data_free_col=list(data_Free.columns)\n",
    "data_free_col"
   ]
  },
  {
   "cell_type": "code",
   "execution_count": null,
   "metadata": {},
   "outputs": [],
   "source": [
    "test_free=pd.Series([?, 4, 1, 0~24, 4, 4, 1~12, 1~31])"
   ]
  },
  {
   "cell_type": "code",
   "execution_count": 94,
   "metadata": {},
   "outputs": [
    {
     "data": {
      "text/plain": [
       "['Rank',\n",
       " 'Value',\n",
       " 'App IAP',\n",
       " 'App Category',\n",
       " 'App Avg. Price',\n",
       " 'Avg. rating - All',\n",
       " '# of ratings - All',\n",
       " 'Period Month',\n",
       " 'App Release Year',\n",
       " 'App Release Month',\n",
       " 'App Release Day']"
      ]
     },
     "execution_count": 94,
     "metadata": {},
     "output_type": "execute_result"
    }
   ],
   "source": [
    "data_grossing_col=list(data_Grossing.columns)\n",
    "data_grossing_col"
   ]
  },
  {
   "cell_type": "code",
   "execution_count": null,
   "metadata": {},
   "outputs": [],
   "source": [
    "test_grossing=pd.Series([?, 4, 1, 0~24, 4, 4, 1~12, 1~31])"
   ]
  },
  {
   "cell_type": "code",
   "execution_count": null,
   "metadata": {},
   "outputs": [],
   "source": [
    "data_paid_col=list(data_Paid.columns)\n",
    "data_paid_col"
   ]
  },
  {
   "cell_type": "code",
   "execution_count": null,
   "metadata": {},
   "outputs": [],
   "source": [
    "test_paid=pd.Series([?, 4, 1, 0~24, 4, 4, 1~12, 1~31])"
   ]
  },
  {
   "cell_type": "markdown",
   "metadata": {},
   "source": [
    "pd.DataFrame(test, columns=col)"
   ]
  }
 ],
 "metadata": {
  "kernelspec": {
   "display_name": "Python 3",
   "language": "python",
   "name": "python3"
  },
  "language_info": {
   "codemirror_mode": {
    "name": "ipython",
    "version": 3
   },
   "file_extension": ".py",
   "mimetype": "text/x-python",
   "name": "python",
   "nbconvert_exporter": "python",
   "pygments_lexer": "ipython3",
   "version": "3.7.6"
  }
 },
 "nbformat": 4,
 "nbformat_minor": 2
}
